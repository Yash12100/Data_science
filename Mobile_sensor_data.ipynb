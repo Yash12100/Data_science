{
  "nbformat": 4,
  "nbformat_minor": 0,
  "metadata": {
    "colab": {
      "name": "Mobile_sensor_data.ipynb",
      "version": "0.3.2",
      "provenance": [],
      "collapsed_sections": [],
      "include_colab_link": true
    },
    "kernelspec": {
      "name": "python3",
      "display_name": "Python 3"
    }
  },
  "cells": [
    {
      "cell_type": "markdown",
      "metadata": {
        "id": "view-in-github",
        "colab_type": "text"
      },
      "source": [
        "<a href=\"https://colab.research.google.com/github/Yash12100/Data_science/blob/master/Mobile_sensor_data.ipynb\" target=\"_parent\"><img src=\"https://colab.research.google.com/assets/colab-badge.svg\" alt=\"Open In Colab\"/></a>"
      ]
    },
    {
      "cell_type": "code",
      "metadata": {
        "id": "quOEQLnA83Dk",
        "colab_type": "code",
        "outputId": "5c81e7c4-8668-44f7-a3b3-da364f45e35a",
        "colab": {
          "base_uri": "https://localhost:8080/",
          "height": 35
        }
      },
      "source": [
        "import pandas as pd\n",
        "train_a=pd.read_csv('https://raw.githubusercontent.com/Yash12100/Data_science/master/train1.csv')\n",
        "train_b=pd.read_csv('https://raw.githubusercontent.com/Yash12100/Data_science/master/train2.csv')\n",
        "test=pd.read_csv('https://raw.githubusercontent.com/Yash12100/Data_science/master/test.csv')\n",
        "train=pd.concat([train_a, train_b, test]).reset_index(drop=True)\n",
        "print(train.shape)\n",
        "train_copy=train.copy()"
      ],
      "execution_count": 4,
      "outputs": [
        {
          "output_type": "stream",
          "text": [
            "(10299, 563)\n"
          ],
          "name": "stdout"
        }
      ]
    },
    {
      "cell_type": "code",
      "metadata": {
        "id": "sHZ4VKH3b0e5",
        "colab_type": "code",
        "outputId": "508b4104-ea38-41ff-ccb3-348412776fa8",
        "colab": {
          "base_uri": "https://localhost:8080/",
          "height": 286
        }
      },
      "source": [
        "train_copy.head()"
      ],
      "execution_count": 6,
      "outputs": [
        {
          "output_type": "execute_result",
          "data": {
            "text/html": [
              "<div>\n",
              "<style scoped>\n",
              "    .dataframe tbody tr th:only-of-type {\n",
              "        vertical-align: middle;\n",
              "    }\n",
              "\n",
              "    .dataframe tbody tr th {\n",
              "        vertical-align: top;\n",
              "    }\n",
              "\n",
              "    .dataframe thead th {\n",
              "        text-align: right;\n",
              "    }\n",
              "</style>\n",
              "<table border=\"1\" class=\"dataframe\">\n",
              "  <thead>\n",
              "    <tr style=\"text-align: right;\">\n",
              "      <th></th>\n",
              "      <th>tBodyAcc-mean()-X</th>\n",
              "      <th>tBodyAcc-mean()-Y</th>\n",
              "      <th>tBodyAcc-mean()-Z</th>\n",
              "      <th>tBodyAcc-std()-X</th>\n",
              "      <th>tBodyAcc-std()-Y</th>\n",
              "      <th>tBodyAcc-std()-Z</th>\n",
              "      <th>tBodyAcc-mad()-X</th>\n",
              "      <th>tBodyAcc-mad()-Y</th>\n",
              "      <th>tBodyAcc-mad()-Z</th>\n",
              "      <th>tBodyAcc-max()-X</th>\n",
              "      <th>tBodyAcc-max()-Y</th>\n",
              "      <th>tBodyAcc-max()-Z</th>\n",
              "      <th>tBodyAcc-min()-X</th>\n",
              "      <th>tBodyAcc-min()-Y</th>\n",
              "      <th>tBodyAcc-min()-Z</th>\n",
              "      <th>tBodyAcc-sma()</th>\n",
              "      <th>tBodyAcc-energy()-X</th>\n",
              "      <th>tBodyAcc-energy()-Y</th>\n",
              "      <th>tBodyAcc-energy()-Z</th>\n",
              "      <th>tBodyAcc-iqr()-X</th>\n",
              "      <th>tBodyAcc-iqr()-Y</th>\n",
              "      <th>tBodyAcc-iqr()-Z</th>\n",
              "      <th>tBodyAcc-entropy()-X</th>\n",
              "      <th>tBodyAcc-entropy()-Y</th>\n",
              "      <th>tBodyAcc-entropy()-Z</th>\n",
              "      <th>tBodyAcc-arCoeff()-X,1</th>\n",
              "      <th>tBodyAcc-arCoeff()-X,2</th>\n",
              "      <th>tBodyAcc-arCoeff()-X,3</th>\n",
              "      <th>tBodyAcc-arCoeff()-X,4</th>\n",
              "      <th>tBodyAcc-arCoeff()-Y,1</th>\n",
              "      <th>tBodyAcc-arCoeff()-Y,2</th>\n",
              "      <th>tBodyAcc-arCoeff()-Y,3</th>\n",
              "      <th>tBodyAcc-arCoeff()-Y,4</th>\n",
              "      <th>tBodyAcc-arCoeff()-Z,1</th>\n",
              "      <th>tBodyAcc-arCoeff()-Z,2</th>\n",
              "      <th>tBodyAcc-arCoeff()-Z,3</th>\n",
              "      <th>tBodyAcc-arCoeff()-Z,4</th>\n",
              "      <th>tBodyAcc-correlation()-X,Y</th>\n",
              "      <th>tBodyAcc-correlation()-X,Z</th>\n",
              "      <th>tBodyAcc-correlation()-Y,Z</th>\n",
              "      <th>...</th>\n",
              "      <th>fBodyBodyAccJerkMag-entropy()</th>\n",
              "      <th>fBodyBodyAccJerkMag-maxInds</th>\n",
              "      <th>fBodyBodyAccJerkMag-meanFreq()</th>\n",
              "      <th>fBodyBodyAccJerkMag-skewness()</th>\n",
              "      <th>fBodyBodyAccJerkMag-kurtosis()</th>\n",
              "      <th>fBodyBodyGyroMag-mean()</th>\n",
              "      <th>fBodyBodyGyroMag-std()</th>\n",
              "      <th>fBodyBodyGyroMag-mad()</th>\n",
              "      <th>fBodyBodyGyroMag-max()</th>\n",
              "      <th>fBodyBodyGyroMag-min()</th>\n",
              "      <th>fBodyBodyGyroMag-sma()</th>\n",
              "      <th>fBodyBodyGyroMag-energy()</th>\n",
              "      <th>fBodyBodyGyroMag-iqr()</th>\n",
              "      <th>fBodyBodyGyroMag-entropy()</th>\n",
              "      <th>fBodyBodyGyroMag-maxInds</th>\n",
              "      <th>fBodyBodyGyroMag-meanFreq()</th>\n",
              "      <th>fBodyBodyGyroMag-skewness()</th>\n",
              "      <th>fBodyBodyGyroMag-kurtosis()</th>\n",
              "      <th>fBodyBodyGyroJerkMag-mean()</th>\n",
              "      <th>fBodyBodyGyroJerkMag-std()</th>\n",
              "      <th>fBodyBodyGyroJerkMag-mad()</th>\n",
              "      <th>fBodyBodyGyroJerkMag-max()</th>\n",
              "      <th>fBodyBodyGyroJerkMag-min()</th>\n",
              "      <th>fBodyBodyGyroJerkMag-sma()</th>\n",
              "      <th>fBodyBodyGyroJerkMag-energy()</th>\n",
              "      <th>fBodyBodyGyroJerkMag-iqr()</th>\n",
              "      <th>fBodyBodyGyroJerkMag-entropy()</th>\n",
              "      <th>fBodyBodyGyroJerkMag-maxInds</th>\n",
              "      <th>fBodyBodyGyroJerkMag-meanFreq()</th>\n",
              "      <th>fBodyBodyGyroJerkMag-skewness()</th>\n",
              "      <th>fBodyBodyGyroJerkMag-kurtosis()</th>\n",
              "      <th>angle(tBodyAccMean,gravity)</th>\n",
              "      <th>angle(tBodyAccJerkMean),gravityMean)</th>\n",
              "      <th>angle(tBodyGyroMean,gravityMean)</th>\n",
              "      <th>angle(tBodyGyroJerkMean,gravityMean)</th>\n",
              "      <th>angle(X,gravityMean)</th>\n",
              "      <th>angle(Y,gravityMean)</th>\n",
              "      <th>angle(Z,gravityMean)</th>\n",
              "      <th>subject</th>\n",
              "      <th>Activity</th>\n",
              "    </tr>\n",
              "  </thead>\n",
              "  <tbody>\n",
              "    <tr>\n",
              "      <th>0</th>\n",
              "      <td>0.271844</td>\n",
              "      <td>-0.010203</td>\n",
              "      <td>-0.124157</td>\n",
              "      <td>-0.989819</td>\n",
              "      <td>-0.984381</td>\n",
              "      <td>-0.979815</td>\n",
              "      <td>-0.990699</td>\n",
              "      <td>-0.983698</td>\n",
              "      <td>-0.978368</td>\n",
              "      <td>-0.937613</td>\n",
              "      <td>-0.561813</td>\n",
              "      <td>-0.820056</td>\n",
              "      <td>0.839182</td>\n",
              "      <td>0.692078</td>\n",
              "      <td>0.831441</td>\n",
              "      <td>-0.980890</td>\n",
              "      <td>-0.999898</td>\n",
              "      <td>-0.999807</td>\n",
              "      <td>-0.999167</td>\n",
              "      <td>-0.991481</td>\n",
              "      <td>-0.984326</td>\n",
              "      <td>-0.974661</td>\n",
              "      <td>-0.569363</td>\n",
              "      <td>-0.381483</td>\n",
              "      <td>-0.737098</td>\n",
              "      <td>-0.016667</td>\n",
              "      <td>0.128967</td>\n",
              "      <td>-0.111175</td>\n",
              "      <td>-0.117656</td>\n",
              "      <td>0.219605</td>\n",
              "      <td>-0.152539</td>\n",
              "      <td>0.120428</td>\n",
              "      <td>0.013042</td>\n",
              "      <td>-0.236866</td>\n",
              "      <td>0.257266</td>\n",
              "      <td>-0.192485</td>\n",
              "      <td>-0.096755</td>\n",
              "      <td>0.488857</td>\n",
              "      <td>-0.380272</td>\n",
              "      <td>-0.452992</td>\n",
              "      <td>...</td>\n",
              "      <td>-1.0</td>\n",
              "      <td>-0.650794</td>\n",
              "      <td>0.562790</td>\n",
              "      <td>-0.750130</td>\n",
              "      <td>-0.949139</td>\n",
              "      <td>-0.993042</td>\n",
              "      <td>-0.992413</td>\n",
              "      <td>-0.991103</td>\n",
              "      <td>-0.992750</td>\n",
              "      <td>-0.997301</td>\n",
              "      <td>-0.993042</td>\n",
              "      <td>-0.999940</td>\n",
              "      <td>-0.990063</td>\n",
              "      <td>-0.850310</td>\n",
              "      <td>-1.0</td>\n",
              "      <td>0.000819</td>\n",
              "      <td>-0.474356</td>\n",
              "      <td>-0.752845</td>\n",
              "      <td>-0.994723</td>\n",
              "      <td>-0.994570</td>\n",
              "      <td>-0.994242</td>\n",
              "      <td>-0.995119</td>\n",
              "      <td>-0.994470</td>\n",
              "      <td>-0.994723</td>\n",
              "      <td>-0.999970</td>\n",
              "      <td>-0.994658</td>\n",
              "      <td>-0.955696</td>\n",
              "      <td>-0.904762</td>\n",
              "      <td>0.445110</td>\n",
              "      <td>-0.350853</td>\n",
              "      <td>-0.713696</td>\n",
              "      <td>0.060629</td>\n",
              "      <td>0.797917</td>\n",
              "      <td>0.318182</td>\n",
              "      <td>-0.578666</td>\n",
              "      <td>0.371511</td>\n",
              "      <td>-0.525097</td>\n",
              "      <td>-0.446015</td>\n",
              "      <td>17</td>\n",
              "      <td>LAYING</td>\n",
              "    </tr>\n",
              "    <tr>\n",
              "      <th>1</th>\n",
              "      <td>0.273342</td>\n",
              "      <td>-0.016478</td>\n",
              "      <td>-0.106394</td>\n",
              "      <td>-0.990812</td>\n",
              "      <td>-0.972099</td>\n",
              "      <td>-0.963879</td>\n",
              "      <td>-0.991005</td>\n",
              "      <td>-0.968943</td>\n",
              "      <td>-0.958965</td>\n",
              "      <td>-0.937613</td>\n",
              "      <td>-0.561813</td>\n",
              "      <td>-0.812154</td>\n",
              "      <td>0.845401</td>\n",
              "      <td>0.686116</td>\n",
              "      <td>0.831441</td>\n",
              "      <td>-0.977197</td>\n",
              "      <td>-0.999915</td>\n",
              "      <td>-0.999744</td>\n",
              "      <td>-0.998910</td>\n",
              "      <td>-0.990838</td>\n",
              "      <td>-0.971442</td>\n",
              "      <td>-0.941337</td>\n",
              "      <td>-0.556757</td>\n",
              "      <td>-0.446539</td>\n",
              "      <td>-0.413303</td>\n",
              "      <td>0.003234</td>\n",
              "      <td>0.061783</td>\n",
              "      <td>-0.004708</td>\n",
              "      <td>-0.170593</td>\n",
              "      <td>0.217867</td>\n",
              "      <td>-0.213274</td>\n",
              "      <td>0.238516</td>\n",
              "      <td>-0.118373</td>\n",
              "      <td>0.182095</td>\n",
              "      <td>-0.145678</td>\n",
              "      <td>0.235560</td>\n",
              "      <td>-0.432155</td>\n",
              "      <td>0.694198</td>\n",
              "      <td>-0.664999</td>\n",
              "      <td>-0.832562</td>\n",
              "      <td>...</td>\n",
              "      <td>-1.0</td>\n",
              "      <td>-0.650794</td>\n",
              "      <td>0.511308</td>\n",
              "      <td>-0.646715</td>\n",
              "      <td>-0.944340</td>\n",
              "      <td>-0.991158</td>\n",
              "      <td>-0.985302</td>\n",
              "      <td>-0.988527</td>\n",
              "      <td>-0.983915</td>\n",
              "      <td>-0.993718</td>\n",
              "      <td>-0.991158</td>\n",
              "      <td>-0.999858</td>\n",
              "      <td>-0.992613</td>\n",
              "      <td>-0.797549</td>\n",
              "      <td>-1.0</td>\n",
              "      <td>-0.189639</td>\n",
              "      <td>0.135421</td>\n",
              "      <td>-0.233146</td>\n",
              "      <td>-0.996613</td>\n",
              "      <td>-0.996863</td>\n",
              "      <td>-0.996287</td>\n",
              "      <td>-0.997741</td>\n",
              "      <td>-0.994671</td>\n",
              "      <td>-0.996613</td>\n",
              "      <td>-0.999985</td>\n",
              "      <td>-0.995332</td>\n",
              "      <td>-1.000000</td>\n",
              "      <td>-0.873016</td>\n",
              "      <td>0.531282</td>\n",
              "      <td>-0.614411</td>\n",
              "      <td>-0.880521</td>\n",
              "      <td>-0.259070</td>\n",
              "      <td>-0.018589</td>\n",
              "      <td>-0.293882</td>\n",
              "      <td>-0.360668</td>\n",
              "      <td>0.372782</td>\n",
              "      <td>-0.529960</td>\n",
              "      <td>-0.441233</td>\n",
              "      <td>17</td>\n",
              "      <td>LAYING</td>\n",
              "    </tr>\n",
              "    <tr>\n",
              "      <th>2</th>\n",
              "      <td>0.262356</td>\n",
              "      <td>-0.023552</td>\n",
              "      <td>-0.088039</td>\n",
              "      <td>-0.994763</td>\n",
              "      <td>-0.989075</td>\n",
              "      <td>-0.984267</td>\n",
              "      <td>-0.994526</td>\n",
              "      <td>-0.989412</td>\n",
              "      <td>-0.981547</td>\n",
              "      <td>-0.944033</td>\n",
              "      <td>-0.575289</td>\n",
              "      <td>-0.804820</td>\n",
              "      <td>0.844227</td>\n",
              "      <td>0.686116</td>\n",
              "      <td>0.849811</td>\n",
              "      <td>-0.982234</td>\n",
              "      <td>-0.999918</td>\n",
              "      <td>-0.999861</td>\n",
              "      <td>-0.999065</td>\n",
              "      <td>-0.994615</td>\n",
              "      <td>-0.991230</td>\n",
              "      <td>-0.977742</td>\n",
              "      <td>-0.888215</td>\n",
              "      <td>-0.847055</td>\n",
              "      <td>-0.223534</td>\n",
              "      <td>0.131681</td>\n",
              "      <td>-0.070851</td>\n",
              "      <td>0.015082</td>\n",
              "      <td>-0.157529</td>\n",
              "      <td>0.102155</td>\n",
              "      <td>-0.051303</td>\n",
              "      <td>0.043313</td>\n",
              "      <td>0.023234</td>\n",
              "      <td>0.213587</td>\n",
              "      <td>-0.127425</td>\n",
              "      <td>0.193110</td>\n",
              "      <td>-0.440547</td>\n",
              "      <td>0.478551</td>\n",
              "      <td>-0.463109</td>\n",
              "      <td>-0.551919</td>\n",
              "      <td>...</td>\n",
              "      <td>-1.0</td>\n",
              "      <td>-0.936508</td>\n",
              "      <td>0.635237</td>\n",
              "      <td>-0.748732</td>\n",
              "      <td>-0.936805</td>\n",
              "      <td>-0.990435</td>\n",
              "      <td>-0.980689</td>\n",
              "      <td>-0.987405</td>\n",
              "      <td>-0.977030</td>\n",
              "      <td>-0.991377</td>\n",
              "      <td>-0.990435</td>\n",
              "      <td>-0.999787</td>\n",
              "      <td>-0.995584</td>\n",
              "      <td>-0.836875</td>\n",
              "      <td>-1.0</td>\n",
              "      <td>-0.086712</td>\n",
              "      <td>0.435785</td>\n",
              "      <td>0.116576</td>\n",
              "      <td>-0.996096</td>\n",
              "      <td>-0.995953</td>\n",
              "      <td>-0.995217</td>\n",
              "      <td>-0.996181</td>\n",
              "      <td>-0.997181</td>\n",
              "      <td>-0.996096</td>\n",
              "      <td>-0.999981</td>\n",
              "      <td>-0.995021</td>\n",
              "      <td>-1.000000</td>\n",
              "      <td>-0.936508</td>\n",
              "      <td>0.255228</td>\n",
              "      <td>-0.475233</td>\n",
              "      <td>-0.763238</td>\n",
              "      <td>-0.046016</td>\n",
              "      <td>0.251388</td>\n",
              "      <td>-0.444355</td>\n",
              "      <td>0.075838</td>\n",
              "      <td>0.374574</td>\n",
              "      <td>-0.529781</td>\n",
              "      <td>-0.441989</td>\n",
              "      <td>17</td>\n",
              "      <td>LAYING</td>\n",
              "    </tr>\n",
              "    <tr>\n",
              "      <th>3</th>\n",
              "      <td>0.274301</td>\n",
              "      <td>-0.018028</td>\n",
              "      <td>-0.106015</td>\n",
              "      <td>-0.994034</td>\n",
              "      <td>-0.992319</td>\n",
              "      <td>-0.979209</td>\n",
              "      <td>-0.994290</td>\n",
              "      <td>-0.991927</td>\n",
              "      <td>-0.980254</td>\n",
              "      <td>-0.942296</td>\n",
              "      <td>-0.572254</td>\n",
              "      <td>-0.804820</td>\n",
              "      <td>0.844227</td>\n",
              "      <td>0.692976</td>\n",
              "      <td>0.836977</td>\n",
              "      <td>-0.991237</td>\n",
              "      <td>-0.999955</td>\n",
              "      <td>-0.999958</td>\n",
              "      <td>-0.999510</td>\n",
              "      <td>-0.994594</td>\n",
              "      <td>-0.990762</td>\n",
              "      <td>-0.981500</td>\n",
              "      <td>-0.672938</td>\n",
              "      <td>-0.688516</td>\n",
              "      <td>-0.442942</td>\n",
              "      <td>0.062102</td>\n",
              "      <td>0.032344</td>\n",
              "      <td>-0.050883</td>\n",
              "      <td>-0.122997</td>\n",
              "      <td>0.259832</td>\n",
              "      <td>-0.079632</td>\n",
              "      <td>0.117740</td>\n",
              "      <td>-0.016711</td>\n",
              "      <td>-0.091898</td>\n",
              "      <td>0.258703</td>\n",
              "      <td>-0.287224</td>\n",
              "      <td>-0.100036</td>\n",
              "      <td>0.467085</td>\n",
              "      <td>-0.595813</td>\n",
              "      <td>-0.593302</td>\n",
              "      <td>...</td>\n",
              "      <td>-1.0</td>\n",
              "      <td>-0.746032</td>\n",
              "      <td>0.660135</td>\n",
              "      <td>-0.834030</td>\n",
              "      <td>-0.980797</td>\n",
              "      <td>-0.993264</td>\n",
              "      <td>-0.990389</td>\n",
              "      <td>-0.993044</td>\n",
              "      <td>-0.987684</td>\n",
              "      <td>-0.994027</td>\n",
              "      <td>-0.993264</td>\n",
              "      <td>-0.999925</td>\n",
              "      <td>-0.996089</td>\n",
              "      <td>-0.853165</td>\n",
              "      <td>-1.0</td>\n",
              "      <td>0.224584</td>\n",
              "      <td>0.263163</td>\n",
              "      <td>-0.010253</td>\n",
              "      <td>-0.996052</td>\n",
              "      <td>-0.995370</td>\n",
              "      <td>-0.995899</td>\n",
              "      <td>-0.994696</td>\n",
              "      <td>-0.996906</td>\n",
              "      <td>-0.996052</td>\n",
              "      <td>-0.999979</td>\n",
              "      <td>-0.996507</td>\n",
              "      <td>-0.955696</td>\n",
              "      <td>-0.936508</td>\n",
              "      <td>0.361582</td>\n",
              "      <td>-0.015137</td>\n",
              "      <td>-0.346735</td>\n",
              "      <td>0.035614</td>\n",
              "      <td>0.150735</td>\n",
              "      <td>0.458987</td>\n",
              "      <td>0.429298</td>\n",
              "      <td>0.378439</td>\n",
              "      <td>-0.525239</td>\n",
              "      <td>-0.448022</td>\n",
              "      <td>17</td>\n",
              "      <td>LAYING</td>\n",
              "    </tr>\n",
              "    <tr>\n",
              "      <th>4</th>\n",
              "      <td>0.291074</td>\n",
              "      <td>-0.010531</td>\n",
              "      <td>-0.127978</td>\n",
              "      <td>-0.996438</td>\n",
              "      <td>-0.989574</td>\n",
              "      <td>-0.983931</td>\n",
              "      <td>-0.996723</td>\n",
              "      <td>-0.988285</td>\n",
              "      <td>-0.983590</td>\n",
              "      <td>-0.939539</td>\n",
              "      <td>-0.565267</td>\n",
              "      <td>-0.819899</td>\n",
              "      <td>0.853794</td>\n",
              "      <td>0.697216</td>\n",
              "      <td>0.828986</td>\n",
              "      <td>-0.983071</td>\n",
              "      <td>-0.999942</td>\n",
              "      <td>-0.999861</td>\n",
              "      <td>-0.999091</td>\n",
              "      <td>-0.996714</td>\n",
              "      <td>-0.986452</td>\n",
              "      <td>-0.979156</td>\n",
              "      <td>-0.452339</td>\n",
              "      <td>-0.425940</td>\n",
              "      <td>-0.866366</td>\n",
              "      <td>-0.026795</td>\n",
              "      <td>0.058951</td>\n",
              "      <td>0.011900</td>\n",
              "      <td>-0.245645</td>\n",
              "      <td>0.361406</td>\n",
              "      <td>-0.215426</td>\n",
              "      <td>0.204014</td>\n",
              "      <td>-0.316592</td>\n",
              "      <td>-0.100003</td>\n",
              "      <td>0.194767</td>\n",
              "      <td>-0.092205</td>\n",
              "      <td>-0.339898</td>\n",
              "      <td>0.522874</td>\n",
              "      <td>-0.452007</td>\n",
              "      <td>-0.584731</td>\n",
              "      <td>...</td>\n",
              "      <td>-1.0</td>\n",
              "      <td>-0.841270</td>\n",
              "      <td>0.590191</td>\n",
              "      <td>-0.751506</td>\n",
              "      <td>-0.944710</td>\n",
              "      <td>-0.993127</td>\n",
              "      <td>-0.990350</td>\n",
              "      <td>-0.990022</td>\n",
              "      <td>-0.989699</td>\n",
              "      <td>-0.996915</td>\n",
              "      <td>-0.993127</td>\n",
              "      <td>-0.999924</td>\n",
              "      <td>-0.987837</td>\n",
              "      <td>-0.896695</td>\n",
              "      <td>-1.0</td>\n",
              "      <td>-0.101437</td>\n",
              "      <td>-0.181296</td>\n",
              "      <td>-0.494449</td>\n",
              "      <td>-0.996679</td>\n",
              "      <td>-0.996342</td>\n",
              "      <td>-0.996579</td>\n",
              "      <td>-0.996146</td>\n",
              "      <td>-0.993998</td>\n",
              "      <td>-0.996679</td>\n",
              "      <td>-0.999984</td>\n",
              "      <td>-0.997555</td>\n",
              "      <td>-1.000000</td>\n",
              "      <td>-0.936508</td>\n",
              "      <td>0.357134</td>\n",
              "      <td>-0.235405</td>\n",
              "      <td>-0.581358</td>\n",
              "      <td>0.056314</td>\n",
              "      <td>-0.070782</td>\n",
              "      <td>0.440938</td>\n",
              "      <td>0.471594</td>\n",
              "      <td>0.378860</td>\n",
              "      <td>-0.525068</td>\n",
              "      <td>-0.448334</td>\n",
              "      <td>17</td>\n",
              "      <td>LAYING</td>\n",
              "    </tr>\n",
              "  </tbody>\n",
              "</table>\n",
              "<p>5 rows × 563 columns</p>\n",
              "</div>"
            ],
            "text/plain": [
              "   tBodyAcc-mean()-X  tBodyAcc-mean()-Y  ...  subject  Activity\n",
              "0           0.271844          -0.010203  ...       17    LAYING\n",
              "1           0.273342          -0.016478  ...       17    LAYING\n",
              "2           0.262356          -0.023552  ...       17    LAYING\n",
              "3           0.274301          -0.018028  ...       17    LAYING\n",
              "4           0.291074          -0.010531  ...       17    LAYING\n",
              "\n",
              "[5 rows x 563 columns]"
            ]
          },
          "metadata": {
            "tags": []
          },
          "execution_count": 6
        }
      ]
    },
    {
      "cell_type": "code",
      "metadata": {
        "id": "-QTBQ9c5qYQv",
        "colab_type": "code",
        "colab": {
          "base_uri": "https://localhost:8080/",
          "height": 347
        },
        "outputId": "bd8a055c-2762-4f08-df05-6b71f36dafaf"
      },
      "source": [
        "hello=pd.Series([x.split('-')[0].split('(')[0] for x in train.columns]).value_counts()\n",
        "hello"
      ],
      "execution_count": 31,
      "outputs": [
        {
          "output_type": "execute_result",
          "data": {
            "text/plain": [
              "fBodyGyro               79\n",
              "fBodyAcc                79\n",
              "fBodyAccJerk            79\n",
              "tBodyAcc                40\n",
              "tGravityAcc             40\n",
              "tBodyAccJerk            40\n",
              "tBodyGyro               40\n",
              "tBodyGyroJerk           40\n",
              "tBodyGyroJerkMag        13\n",
              "tBodyAccJerkMag         13\n",
              "tBodyAccMag             13\n",
              "tGravityAccMag          13\n",
              "fBodyBodyGyroMag        13\n",
              "fBodyAccMag             13\n",
              "fBodyBodyGyroJerkMag    13\n",
              "fBodyBodyAccJerkMag     13\n",
              "tBodyGyroMag            13\n",
              "angle                    7\n",
              "dtype: int64"
            ]
          },
          "metadata": {
            "tags": []
          },
          "execution_count": 31
        }
      ]
    },
    {
      "cell_type": "code",
      "metadata": {
        "id": "BHlY8mZ2tSu4",
        "colab_type": "code",
        "outputId": "04495845-4772-4c4a-c062-28bdc7df1bd3",
        "colab": {
          "base_uri": "https://localhost:8080/",
          "height": 35
        }
      },
      "source": [
        "train.isnull().sum().sum()"
      ],
      "execution_count": 8,
      "outputs": [
        {
          "output_type": "execute_result",
          "data": {
            "text/plain": [
              "0"
            ]
          },
          "metadata": {
            "tags": []
          },
          "execution_count": 8
        }
      ]
    },
    {
      "cell_type": "code",
      "metadata": {
        "id": "gnu6iGoAsZpK",
        "colab_type": "code",
        "outputId": "2d97141c-bbfb-49ab-e978-e364e4e84fca",
        "colab": {
          "base_uri": "https://localhost:8080/",
          "height": 286
        }
      },
      "source": [
        "train.head()"
      ],
      "execution_count": 9,
      "outputs": [
        {
          "output_type": "execute_result",
          "data": {
            "text/html": [
              "<div>\n",
              "<style scoped>\n",
              "    .dataframe tbody tr th:only-of-type {\n",
              "        vertical-align: middle;\n",
              "    }\n",
              "\n",
              "    .dataframe tbody tr th {\n",
              "        vertical-align: top;\n",
              "    }\n",
              "\n",
              "    .dataframe thead th {\n",
              "        text-align: right;\n",
              "    }\n",
              "</style>\n",
              "<table border=\"1\" class=\"dataframe\">\n",
              "  <thead>\n",
              "    <tr style=\"text-align: right;\">\n",
              "      <th></th>\n",
              "      <th>tBodyAcc-mean()-X</th>\n",
              "      <th>tBodyAcc-mean()-Y</th>\n",
              "      <th>tBodyAcc-mean()-Z</th>\n",
              "      <th>tBodyAcc-std()-X</th>\n",
              "      <th>tBodyAcc-std()-Y</th>\n",
              "      <th>tBodyAcc-std()-Z</th>\n",
              "      <th>tBodyAcc-mad()-X</th>\n",
              "      <th>tBodyAcc-mad()-Y</th>\n",
              "      <th>tBodyAcc-mad()-Z</th>\n",
              "      <th>tBodyAcc-max()-X</th>\n",
              "      <th>tBodyAcc-max()-Y</th>\n",
              "      <th>tBodyAcc-max()-Z</th>\n",
              "      <th>tBodyAcc-min()-X</th>\n",
              "      <th>tBodyAcc-min()-Y</th>\n",
              "      <th>tBodyAcc-min()-Z</th>\n",
              "      <th>tBodyAcc-sma()</th>\n",
              "      <th>tBodyAcc-energy()-X</th>\n",
              "      <th>tBodyAcc-energy()-Y</th>\n",
              "      <th>tBodyAcc-energy()-Z</th>\n",
              "      <th>tBodyAcc-iqr()-X</th>\n",
              "      <th>tBodyAcc-iqr()-Y</th>\n",
              "      <th>tBodyAcc-iqr()-Z</th>\n",
              "      <th>tBodyAcc-entropy()-X</th>\n",
              "      <th>tBodyAcc-entropy()-Y</th>\n",
              "      <th>tBodyAcc-entropy()-Z</th>\n",
              "      <th>tBodyAcc-arCoeff()-X,1</th>\n",
              "      <th>tBodyAcc-arCoeff()-X,2</th>\n",
              "      <th>tBodyAcc-arCoeff()-X,3</th>\n",
              "      <th>tBodyAcc-arCoeff()-X,4</th>\n",
              "      <th>tBodyAcc-arCoeff()-Y,1</th>\n",
              "      <th>tBodyAcc-arCoeff()-Y,2</th>\n",
              "      <th>tBodyAcc-arCoeff()-Y,3</th>\n",
              "      <th>tBodyAcc-arCoeff()-Y,4</th>\n",
              "      <th>tBodyAcc-arCoeff()-Z,1</th>\n",
              "      <th>tBodyAcc-arCoeff()-Z,2</th>\n",
              "      <th>tBodyAcc-arCoeff()-Z,3</th>\n",
              "      <th>tBodyAcc-arCoeff()-Z,4</th>\n",
              "      <th>tBodyAcc-correlation()-X,Y</th>\n",
              "      <th>tBodyAcc-correlation()-X,Z</th>\n",
              "      <th>tBodyAcc-correlation()-Y,Z</th>\n",
              "      <th>...</th>\n",
              "      <th>fBodyBodyAccJerkMag-entropy()</th>\n",
              "      <th>fBodyBodyAccJerkMag-maxInds</th>\n",
              "      <th>fBodyBodyAccJerkMag-meanFreq()</th>\n",
              "      <th>fBodyBodyAccJerkMag-skewness()</th>\n",
              "      <th>fBodyBodyAccJerkMag-kurtosis()</th>\n",
              "      <th>fBodyBodyGyroMag-mean()</th>\n",
              "      <th>fBodyBodyGyroMag-std()</th>\n",
              "      <th>fBodyBodyGyroMag-mad()</th>\n",
              "      <th>fBodyBodyGyroMag-max()</th>\n",
              "      <th>fBodyBodyGyroMag-min()</th>\n",
              "      <th>fBodyBodyGyroMag-sma()</th>\n",
              "      <th>fBodyBodyGyroMag-energy()</th>\n",
              "      <th>fBodyBodyGyroMag-iqr()</th>\n",
              "      <th>fBodyBodyGyroMag-entropy()</th>\n",
              "      <th>fBodyBodyGyroMag-maxInds</th>\n",
              "      <th>fBodyBodyGyroMag-meanFreq()</th>\n",
              "      <th>fBodyBodyGyroMag-skewness()</th>\n",
              "      <th>fBodyBodyGyroMag-kurtosis()</th>\n",
              "      <th>fBodyBodyGyroJerkMag-mean()</th>\n",
              "      <th>fBodyBodyGyroJerkMag-std()</th>\n",
              "      <th>fBodyBodyGyroJerkMag-mad()</th>\n",
              "      <th>fBodyBodyGyroJerkMag-max()</th>\n",
              "      <th>fBodyBodyGyroJerkMag-min()</th>\n",
              "      <th>fBodyBodyGyroJerkMag-sma()</th>\n",
              "      <th>fBodyBodyGyroJerkMag-energy()</th>\n",
              "      <th>fBodyBodyGyroJerkMag-iqr()</th>\n",
              "      <th>fBodyBodyGyroJerkMag-entropy()</th>\n",
              "      <th>fBodyBodyGyroJerkMag-maxInds</th>\n",
              "      <th>fBodyBodyGyroJerkMag-meanFreq()</th>\n",
              "      <th>fBodyBodyGyroJerkMag-skewness()</th>\n",
              "      <th>fBodyBodyGyroJerkMag-kurtosis()</th>\n",
              "      <th>angle(tBodyAccMean,gravity)</th>\n",
              "      <th>angle(tBodyAccJerkMean),gravityMean)</th>\n",
              "      <th>angle(tBodyGyroMean,gravityMean)</th>\n",
              "      <th>angle(tBodyGyroJerkMean,gravityMean)</th>\n",
              "      <th>angle(X,gravityMean)</th>\n",
              "      <th>angle(Y,gravityMean)</th>\n",
              "      <th>angle(Z,gravityMean)</th>\n",
              "      <th>subject</th>\n",
              "      <th>Activity</th>\n",
              "    </tr>\n",
              "  </thead>\n",
              "  <tbody>\n",
              "    <tr>\n",
              "      <th>0</th>\n",
              "      <td>0.271844</td>\n",
              "      <td>-0.010203</td>\n",
              "      <td>-0.124157</td>\n",
              "      <td>-0.989819</td>\n",
              "      <td>-0.984381</td>\n",
              "      <td>-0.979815</td>\n",
              "      <td>-0.990699</td>\n",
              "      <td>-0.983698</td>\n",
              "      <td>-0.978368</td>\n",
              "      <td>-0.937613</td>\n",
              "      <td>-0.561813</td>\n",
              "      <td>-0.820056</td>\n",
              "      <td>0.839182</td>\n",
              "      <td>0.692078</td>\n",
              "      <td>0.831441</td>\n",
              "      <td>-0.980890</td>\n",
              "      <td>-0.999898</td>\n",
              "      <td>-0.999807</td>\n",
              "      <td>-0.999167</td>\n",
              "      <td>-0.991481</td>\n",
              "      <td>-0.984326</td>\n",
              "      <td>-0.974661</td>\n",
              "      <td>-0.569363</td>\n",
              "      <td>-0.381483</td>\n",
              "      <td>-0.737098</td>\n",
              "      <td>-0.016667</td>\n",
              "      <td>0.128967</td>\n",
              "      <td>-0.111175</td>\n",
              "      <td>-0.117656</td>\n",
              "      <td>0.219605</td>\n",
              "      <td>-0.152539</td>\n",
              "      <td>0.120428</td>\n",
              "      <td>0.013042</td>\n",
              "      <td>-0.236866</td>\n",
              "      <td>0.257266</td>\n",
              "      <td>-0.192485</td>\n",
              "      <td>-0.096755</td>\n",
              "      <td>0.488857</td>\n",
              "      <td>-0.380272</td>\n",
              "      <td>-0.452992</td>\n",
              "      <td>...</td>\n",
              "      <td>-1.0</td>\n",
              "      <td>-0.650794</td>\n",
              "      <td>0.562790</td>\n",
              "      <td>-0.750130</td>\n",
              "      <td>-0.949139</td>\n",
              "      <td>-0.993042</td>\n",
              "      <td>-0.992413</td>\n",
              "      <td>-0.991103</td>\n",
              "      <td>-0.992750</td>\n",
              "      <td>-0.997301</td>\n",
              "      <td>-0.993042</td>\n",
              "      <td>-0.999940</td>\n",
              "      <td>-0.990063</td>\n",
              "      <td>-0.850310</td>\n",
              "      <td>-1.0</td>\n",
              "      <td>0.000819</td>\n",
              "      <td>-0.474356</td>\n",
              "      <td>-0.752845</td>\n",
              "      <td>-0.994723</td>\n",
              "      <td>-0.994570</td>\n",
              "      <td>-0.994242</td>\n",
              "      <td>-0.995119</td>\n",
              "      <td>-0.994470</td>\n",
              "      <td>-0.994723</td>\n",
              "      <td>-0.999970</td>\n",
              "      <td>-0.994658</td>\n",
              "      <td>-0.955696</td>\n",
              "      <td>-0.904762</td>\n",
              "      <td>0.445110</td>\n",
              "      <td>-0.350853</td>\n",
              "      <td>-0.713696</td>\n",
              "      <td>0.060629</td>\n",
              "      <td>0.797917</td>\n",
              "      <td>0.318182</td>\n",
              "      <td>-0.578666</td>\n",
              "      <td>0.371511</td>\n",
              "      <td>-0.525097</td>\n",
              "      <td>-0.446015</td>\n",
              "      <td>17</td>\n",
              "      <td>LAYING</td>\n",
              "    </tr>\n",
              "    <tr>\n",
              "      <th>1</th>\n",
              "      <td>0.273342</td>\n",
              "      <td>-0.016478</td>\n",
              "      <td>-0.106394</td>\n",
              "      <td>-0.990812</td>\n",
              "      <td>-0.972099</td>\n",
              "      <td>-0.963879</td>\n",
              "      <td>-0.991005</td>\n",
              "      <td>-0.968943</td>\n",
              "      <td>-0.958965</td>\n",
              "      <td>-0.937613</td>\n",
              "      <td>-0.561813</td>\n",
              "      <td>-0.812154</td>\n",
              "      <td>0.845401</td>\n",
              "      <td>0.686116</td>\n",
              "      <td>0.831441</td>\n",
              "      <td>-0.977197</td>\n",
              "      <td>-0.999915</td>\n",
              "      <td>-0.999744</td>\n",
              "      <td>-0.998910</td>\n",
              "      <td>-0.990838</td>\n",
              "      <td>-0.971442</td>\n",
              "      <td>-0.941337</td>\n",
              "      <td>-0.556757</td>\n",
              "      <td>-0.446539</td>\n",
              "      <td>-0.413303</td>\n",
              "      <td>0.003234</td>\n",
              "      <td>0.061783</td>\n",
              "      <td>-0.004708</td>\n",
              "      <td>-0.170593</td>\n",
              "      <td>0.217867</td>\n",
              "      <td>-0.213274</td>\n",
              "      <td>0.238516</td>\n",
              "      <td>-0.118373</td>\n",
              "      <td>0.182095</td>\n",
              "      <td>-0.145678</td>\n",
              "      <td>0.235560</td>\n",
              "      <td>-0.432155</td>\n",
              "      <td>0.694198</td>\n",
              "      <td>-0.664999</td>\n",
              "      <td>-0.832562</td>\n",
              "      <td>...</td>\n",
              "      <td>-1.0</td>\n",
              "      <td>-0.650794</td>\n",
              "      <td>0.511308</td>\n",
              "      <td>-0.646715</td>\n",
              "      <td>-0.944340</td>\n",
              "      <td>-0.991158</td>\n",
              "      <td>-0.985302</td>\n",
              "      <td>-0.988527</td>\n",
              "      <td>-0.983915</td>\n",
              "      <td>-0.993718</td>\n",
              "      <td>-0.991158</td>\n",
              "      <td>-0.999858</td>\n",
              "      <td>-0.992613</td>\n",
              "      <td>-0.797549</td>\n",
              "      <td>-1.0</td>\n",
              "      <td>-0.189639</td>\n",
              "      <td>0.135421</td>\n",
              "      <td>-0.233146</td>\n",
              "      <td>-0.996613</td>\n",
              "      <td>-0.996863</td>\n",
              "      <td>-0.996287</td>\n",
              "      <td>-0.997741</td>\n",
              "      <td>-0.994671</td>\n",
              "      <td>-0.996613</td>\n",
              "      <td>-0.999985</td>\n",
              "      <td>-0.995332</td>\n",
              "      <td>-1.000000</td>\n",
              "      <td>-0.873016</td>\n",
              "      <td>0.531282</td>\n",
              "      <td>-0.614411</td>\n",
              "      <td>-0.880521</td>\n",
              "      <td>-0.259070</td>\n",
              "      <td>-0.018589</td>\n",
              "      <td>-0.293882</td>\n",
              "      <td>-0.360668</td>\n",
              "      <td>0.372782</td>\n",
              "      <td>-0.529960</td>\n",
              "      <td>-0.441233</td>\n",
              "      <td>17</td>\n",
              "      <td>LAYING</td>\n",
              "    </tr>\n",
              "    <tr>\n",
              "      <th>2</th>\n",
              "      <td>0.262356</td>\n",
              "      <td>-0.023552</td>\n",
              "      <td>-0.088039</td>\n",
              "      <td>-0.994763</td>\n",
              "      <td>-0.989075</td>\n",
              "      <td>-0.984267</td>\n",
              "      <td>-0.994526</td>\n",
              "      <td>-0.989412</td>\n",
              "      <td>-0.981547</td>\n",
              "      <td>-0.944033</td>\n",
              "      <td>-0.575289</td>\n",
              "      <td>-0.804820</td>\n",
              "      <td>0.844227</td>\n",
              "      <td>0.686116</td>\n",
              "      <td>0.849811</td>\n",
              "      <td>-0.982234</td>\n",
              "      <td>-0.999918</td>\n",
              "      <td>-0.999861</td>\n",
              "      <td>-0.999065</td>\n",
              "      <td>-0.994615</td>\n",
              "      <td>-0.991230</td>\n",
              "      <td>-0.977742</td>\n",
              "      <td>-0.888215</td>\n",
              "      <td>-0.847055</td>\n",
              "      <td>-0.223534</td>\n",
              "      <td>0.131681</td>\n",
              "      <td>-0.070851</td>\n",
              "      <td>0.015082</td>\n",
              "      <td>-0.157529</td>\n",
              "      <td>0.102155</td>\n",
              "      <td>-0.051303</td>\n",
              "      <td>0.043313</td>\n",
              "      <td>0.023234</td>\n",
              "      <td>0.213587</td>\n",
              "      <td>-0.127425</td>\n",
              "      <td>0.193110</td>\n",
              "      <td>-0.440547</td>\n",
              "      <td>0.478551</td>\n",
              "      <td>-0.463109</td>\n",
              "      <td>-0.551919</td>\n",
              "      <td>...</td>\n",
              "      <td>-1.0</td>\n",
              "      <td>-0.936508</td>\n",
              "      <td>0.635237</td>\n",
              "      <td>-0.748732</td>\n",
              "      <td>-0.936805</td>\n",
              "      <td>-0.990435</td>\n",
              "      <td>-0.980689</td>\n",
              "      <td>-0.987405</td>\n",
              "      <td>-0.977030</td>\n",
              "      <td>-0.991377</td>\n",
              "      <td>-0.990435</td>\n",
              "      <td>-0.999787</td>\n",
              "      <td>-0.995584</td>\n",
              "      <td>-0.836875</td>\n",
              "      <td>-1.0</td>\n",
              "      <td>-0.086712</td>\n",
              "      <td>0.435785</td>\n",
              "      <td>0.116576</td>\n",
              "      <td>-0.996096</td>\n",
              "      <td>-0.995953</td>\n",
              "      <td>-0.995217</td>\n",
              "      <td>-0.996181</td>\n",
              "      <td>-0.997181</td>\n",
              "      <td>-0.996096</td>\n",
              "      <td>-0.999981</td>\n",
              "      <td>-0.995021</td>\n",
              "      <td>-1.000000</td>\n",
              "      <td>-0.936508</td>\n",
              "      <td>0.255228</td>\n",
              "      <td>-0.475233</td>\n",
              "      <td>-0.763238</td>\n",
              "      <td>-0.046016</td>\n",
              "      <td>0.251388</td>\n",
              "      <td>-0.444355</td>\n",
              "      <td>0.075838</td>\n",
              "      <td>0.374574</td>\n",
              "      <td>-0.529781</td>\n",
              "      <td>-0.441989</td>\n",
              "      <td>17</td>\n",
              "      <td>LAYING</td>\n",
              "    </tr>\n",
              "    <tr>\n",
              "      <th>3</th>\n",
              "      <td>0.274301</td>\n",
              "      <td>-0.018028</td>\n",
              "      <td>-0.106015</td>\n",
              "      <td>-0.994034</td>\n",
              "      <td>-0.992319</td>\n",
              "      <td>-0.979209</td>\n",
              "      <td>-0.994290</td>\n",
              "      <td>-0.991927</td>\n",
              "      <td>-0.980254</td>\n",
              "      <td>-0.942296</td>\n",
              "      <td>-0.572254</td>\n",
              "      <td>-0.804820</td>\n",
              "      <td>0.844227</td>\n",
              "      <td>0.692976</td>\n",
              "      <td>0.836977</td>\n",
              "      <td>-0.991237</td>\n",
              "      <td>-0.999955</td>\n",
              "      <td>-0.999958</td>\n",
              "      <td>-0.999510</td>\n",
              "      <td>-0.994594</td>\n",
              "      <td>-0.990762</td>\n",
              "      <td>-0.981500</td>\n",
              "      <td>-0.672938</td>\n",
              "      <td>-0.688516</td>\n",
              "      <td>-0.442942</td>\n",
              "      <td>0.062102</td>\n",
              "      <td>0.032344</td>\n",
              "      <td>-0.050883</td>\n",
              "      <td>-0.122997</td>\n",
              "      <td>0.259832</td>\n",
              "      <td>-0.079632</td>\n",
              "      <td>0.117740</td>\n",
              "      <td>-0.016711</td>\n",
              "      <td>-0.091898</td>\n",
              "      <td>0.258703</td>\n",
              "      <td>-0.287224</td>\n",
              "      <td>-0.100036</td>\n",
              "      <td>0.467085</td>\n",
              "      <td>-0.595813</td>\n",
              "      <td>-0.593302</td>\n",
              "      <td>...</td>\n",
              "      <td>-1.0</td>\n",
              "      <td>-0.746032</td>\n",
              "      <td>0.660135</td>\n",
              "      <td>-0.834030</td>\n",
              "      <td>-0.980797</td>\n",
              "      <td>-0.993264</td>\n",
              "      <td>-0.990389</td>\n",
              "      <td>-0.993044</td>\n",
              "      <td>-0.987684</td>\n",
              "      <td>-0.994027</td>\n",
              "      <td>-0.993264</td>\n",
              "      <td>-0.999925</td>\n",
              "      <td>-0.996089</td>\n",
              "      <td>-0.853165</td>\n",
              "      <td>-1.0</td>\n",
              "      <td>0.224584</td>\n",
              "      <td>0.263163</td>\n",
              "      <td>-0.010253</td>\n",
              "      <td>-0.996052</td>\n",
              "      <td>-0.995370</td>\n",
              "      <td>-0.995899</td>\n",
              "      <td>-0.994696</td>\n",
              "      <td>-0.996906</td>\n",
              "      <td>-0.996052</td>\n",
              "      <td>-0.999979</td>\n",
              "      <td>-0.996507</td>\n",
              "      <td>-0.955696</td>\n",
              "      <td>-0.936508</td>\n",
              "      <td>0.361582</td>\n",
              "      <td>-0.015137</td>\n",
              "      <td>-0.346735</td>\n",
              "      <td>0.035614</td>\n",
              "      <td>0.150735</td>\n",
              "      <td>0.458987</td>\n",
              "      <td>0.429298</td>\n",
              "      <td>0.378439</td>\n",
              "      <td>-0.525239</td>\n",
              "      <td>-0.448022</td>\n",
              "      <td>17</td>\n",
              "      <td>LAYING</td>\n",
              "    </tr>\n",
              "    <tr>\n",
              "      <th>4</th>\n",
              "      <td>0.291074</td>\n",
              "      <td>-0.010531</td>\n",
              "      <td>-0.127978</td>\n",
              "      <td>-0.996438</td>\n",
              "      <td>-0.989574</td>\n",
              "      <td>-0.983931</td>\n",
              "      <td>-0.996723</td>\n",
              "      <td>-0.988285</td>\n",
              "      <td>-0.983590</td>\n",
              "      <td>-0.939539</td>\n",
              "      <td>-0.565267</td>\n",
              "      <td>-0.819899</td>\n",
              "      <td>0.853794</td>\n",
              "      <td>0.697216</td>\n",
              "      <td>0.828986</td>\n",
              "      <td>-0.983071</td>\n",
              "      <td>-0.999942</td>\n",
              "      <td>-0.999861</td>\n",
              "      <td>-0.999091</td>\n",
              "      <td>-0.996714</td>\n",
              "      <td>-0.986452</td>\n",
              "      <td>-0.979156</td>\n",
              "      <td>-0.452339</td>\n",
              "      <td>-0.425940</td>\n",
              "      <td>-0.866366</td>\n",
              "      <td>-0.026795</td>\n",
              "      <td>0.058951</td>\n",
              "      <td>0.011900</td>\n",
              "      <td>-0.245645</td>\n",
              "      <td>0.361406</td>\n",
              "      <td>-0.215426</td>\n",
              "      <td>0.204014</td>\n",
              "      <td>-0.316592</td>\n",
              "      <td>-0.100003</td>\n",
              "      <td>0.194767</td>\n",
              "      <td>-0.092205</td>\n",
              "      <td>-0.339898</td>\n",
              "      <td>0.522874</td>\n",
              "      <td>-0.452007</td>\n",
              "      <td>-0.584731</td>\n",
              "      <td>...</td>\n",
              "      <td>-1.0</td>\n",
              "      <td>-0.841270</td>\n",
              "      <td>0.590191</td>\n",
              "      <td>-0.751506</td>\n",
              "      <td>-0.944710</td>\n",
              "      <td>-0.993127</td>\n",
              "      <td>-0.990350</td>\n",
              "      <td>-0.990022</td>\n",
              "      <td>-0.989699</td>\n",
              "      <td>-0.996915</td>\n",
              "      <td>-0.993127</td>\n",
              "      <td>-0.999924</td>\n",
              "      <td>-0.987837</td>\n",
              "      <td>-0.896695</td>\n",
              "      <td>-1.0</td>\n",
              "      <td>-0.101437</td>\n",
              "      <td>-0.181296</td>\n",
              "      <td>-0.494449</td>\n",
              "      <td>-0.996679</td>\n",
              "      <td>-0.996342</td>\n",
              "      <td>-0.996579</td>\n",
              "      <td>-0.996146</td>\n",
              "      <td>-0.993998</td>\n",
              "      <td>-0.996679</td>\n",
              "      <td>-0.999984</td>\n",
              "      <td>-0.997555</td>\n",
              "      <td>-1.000000</td>\n",
              "      <td>-0.936508</td>\n",
              "      <td>0.357134</td>\n",
              "      <td>-0.235405</td>\n",
              "      <td>-0.581358</td>\n",
              "      <td>0.056314</td>\n",
              "      <td>-0.070782</td>\n",
              "      <td>0.440938</td>\n",
              "      <td>0.471594</td>\n",
              "      <td>0.378860</td>\n",
              "      <td>-0.525068</td>\n",
              "      <td>-0.448334</td>\n",
              "      <td>17</td>\n",
              "      <td>LAYING</td>\n",
              "    </tr>\n",
              "  </tbody>\n",
              "</table>\n",
              "<p>5 rows × 563 columns</p>\n",
              "</div>"
            ],
            "text/plain": [
              "   tBodyAcc-mean()-X  tBodyAcc-mean()-Y  ...  subject  Activity\n",
              "0           0.271844          -0.010203  ...       17    LAYING\n",
              "1           0.273342          -0.016478  ...       17    LAYING\n",
              "2           0.262356          -0.023552  ...       17    LAYING\n",
              "3           0.274301          -0.018028  ...       17    LAYING\n",
              "4           0.291074          -0.010531  ...       17    LAYING\n",
              "\n",
              "[5 rows x 563 columns]"
            ]
          },
          "metadata": {
            "tags": []
          },
          "execution_count": 9
        }
      ]
    },
    {
      "cell_type": "code",
      "metadata": {
        "id": "HMgI8ZoltsAQ",
        "colab_type": "code",
        "outputId": "bc98bc8f-03b7-4b75-e570-d4513ac61af2",
        "colab": {
          "base_uri": "https://localhost:8080/",
          "height": 575
        }
      },
      "source": [
        "import matplotlib.pyplot as plt\n",
        "import numpy as np\n",
        "import seaborn as sns\n",
        "plt.figure(figsize=(20,7))\n",
        "plt.subplot(1,2,1)\n",
        "train['Activity'].value_counts(normalize=True).plot.bar(title='Activity')\n",
        "plt.grid(False)\n",
        "axx=plt.subplot(1,2,2)\n",
        "color_map= plt.cm.nipy_spectral\n",
        "axx.set_prop_cycle('color', [color_map(i) for i in np.linspace(0,1,10)])\n",
        "train['subject'].value_counts(normalize=True).plot.bar(title='Person_number')\n",
        "sns.countplot(x='subject', data=train, order= train['subject'].value_counts().index)\n",
        "plt.grid(False)\n",
        "plt.show()"
      ],
      "execution_count": 11,
      "outputs": [
        {
          "output_type": "display_data",
          "data": {
            "image/png": "[encoded data removed]",
            "text/plain": [
              "<Figure size 1440x504 with 2 Axes>"
            ]
          },
          "metadata": {
            "tags": []
          }
        }
      ]
    },
    {
      "cell_type": "markdown",
      "metadata": {
        "id": "fggvxZrbwGXh",
        "colab_type": "text"
      },
      "source": [
        "# ***Grouping is Possible***"
      ]
    },
    {
      "cell_type": "code",
      "metadata": {
        "id": "8e0-A9iA5bXz",
        "colab_type": "code",
        "colab": {}
      },
      "source": [
        "label=train.pop('Activity')\n",
        "Subject_data=train.pop('subject')"
      ],
      "execution_count": 0,
      "outputs": []
    },
    {
      "cell_type": "code",
      "metadata": {
        "id": "amMF0vZSwnpI",
        "colab_type": "code",
        "outputId": "28bc6e39-2d95-4ac1-a846-d604ee954522",
        "colab": {
          "base_uri": "https://localhost:8080/",
          "height": 243
        }
      },
      "source": [
        "from sklearn.decomposition import PCA\n",
        "from sklearn.preprocessing import StandardScaler\n",
        "from sklearn.manifold import TSNE\n",
        "import warnings\n",
        "warnings.filterwarnings('ignore')\n",
        "scaler= StandardScaler()\n",
        "scaler_data=scaler.fit_transform(train)\n",
        "pca= PCA(n_components=0.9, random_state=3)\n",
        "pca_data= pca.fit_transform(scaler_data)\n",
        "tsne=TSNE(random_state=3)\n",
        "tsne_data=tsne.fit_transform(scaler_data)\n",
        "#scaler_data\n",
        "pca_data\n"
      ],
      "execution_count": 20,
      "outputs": [
        {
          "output_type": "execute_result",
          "data": {
            "text/plain": [
              "array([[-16.09974774,   4.01533135,   1.98925673, ...,   0.15115463,\n",
              "         -0.16549461,  -0.70863678],\n",
              "       [-16.56518733,   2.70072838,   4.05676832, ...,   0.09412534,\n",
              "         -0.27253354,  -0.82285136],\n",
              "       [-16.62492813,   4.42199562,   2.85580417, ...,   0.85659035,\n",
              "          1.30338883,  -0.34235181],\n",
              "       ...,\n",
              "       [ 11.84685312,  -3.43356502,   2.18801926, ...,  -0.94467046,\n",
              "         -0.34497972,  -2.09465647],\n",
              "       [  8.20668637,  -4.38648876,   1.31871955, ...,   0.11723445,\n",
              "         -1.32786056,   0.08742446],\n",
              "       [  9.31117251,  -3.98616133,   1.93301747, ...,   0.12988204,\n",
              "         -1.86396408,  -0.18253505]])"
            ]
          },
          "metadata": {
            "tags": []
          },
          "execution_count": 20
        }
      ]
    },
    {
      "cell_type": "code",
      "metadata": {
        "id": "wige5xfO9bHb",
        "colab_type": "code",
        "outputId": "cc5dff20-e225-4447-b53d-c30d8ff61375",
        "colab": {
          "base_uri": "https://localhost:8080/",
          "height": 453
        }
      },
      "source": [
        "from matplotlib.cm import get_cmap\n",
        "from matplotlib.colors import rgb2hex\n",
        "plt.figure(figsize=(20,7))\n",
        "n = label.unique().shape[0]\n",
        "colormap = get_cmap('viridis')\n",
        "colors = [rgb2hex(colormap(col)) for col in np.arange(0, 1.01, 1/(n-1))]\n",
        "for i in label.value_counts().index:\n",
        "  plt_data=tsne_data[(label==i).values]\n",
        "  plt.scatter(plt_data[:,0], plt_data[:,1],label=i)\n",
        " \n",
        "plt.legend()\n",
        "plt.show()"
      ],
      "execution_count": 27,
      "outputs": [
        {
          "output_type": "display_data",
          "data": {
            "image/png": "[encoded data removed]",
            "text/plain": [
              "<Figure size 1440x504 with 1 Axes>"
            ]
          },
          "metadata": {
            "tags": []
          }
        }
      ]
    },
    {
      "cell_type": "code",
      "metadata": {
        "id": "U9XWhpp9RCoB",
        "colab_type": "code",
        "colab": {}
      },
      "source": [
        "from sklearn.ensemble import RandomForestClassifier as rsk\n",
        "from sklearn.neighbors import  KNeighborsClassifier\n",
        "from sklearn.linear_model import LogisticRegression\n",
        "from sklearn.model_selection import train_test_split\n",
        "from sklearn.metrics import  accuracy_score\n",
        "x= train\n",
        "y= label\n",
        "x_train, x_test, y_train, y_test= train_test_split(x,y, test_size=0.3)\n"
      ],
      "execution_count": 0,
      "outputs": []
    },
    {
      "cell_type": "code",
      "metadata": {
        "id": "FpjgHmONq19K",
        "colab_type": "code",
        "outputId": "2fc3c1db-bd60-405b-b067-2265a0649d0d",
        "colab": {
          "base_uri": "https://localhost:8080/",
          "height": 35
        }
      },
      "source": [
        "log=LogisticRegression()\n",
        "log.fit(x_train, y_train)\n",
        "y_pred= log.predict(x_test)\n",
        "score=accuracy_score(y_test, y_pred)\n",
        "print(score)"
      ],
      "execution_count": 29,
      "outputs": [
        {
          "output_type": "stream",
          "text": [
            "0.982200647249191\n"
          ],
          "name": "stdout"
        }
      ]
    },
    {
      "cell_type": "code",
      "metadata": {
        "id": "6Ka8mr1fsT5o",
        "colab_type": "code",
        "outputId": "9ccb7f74-b746-4722-ebfe-151b1acf3e5e",
        "colab": {
          "base_uri": "https://localhost:8080/",
          "height": 35
        }
      },
      "source": [
        "log=KNeighborsClassifier(n_neighbors=5)\n",
        "log.fit(x_train, y_train)\n",
        "y_pred= log.predict(x_test)\n",
        "score=accuracy_score(y_test, y_pred)\n",
        "print(score)"
      ],
      "execution_count": 30,
      "outputs": [
        {
          "output_type": "stream",
          "text": [
            "0.96084142394822\n"
          ],
          "name": "stdout"
        }
      ]
    },
    {
      "cell_type": "code",
      "metadata": {
        "id": "MFGoL_gNs8Xu",
        "colab_type": "code",
        "outputId": "f89714e8-78a3-465c-f02d-68b76f67303b",
        "colab": {
          "base_uri": "https://localhost:8080/",
          "height": 34
        }
      },
      "source": [
        "log=rsk()\n",
        "log.fit(x_train, y_train)\n",
        "y_pred= log.predict(x_test)\n",
        "score=accuracy_score(y_test, y_pred)\n",
        "print(score)"
      ],
      "execution_count": 0,
      "outputs": [
        {
          "output_type": "stream",
          "text": [
            "0.9640776699029127\n"
          ],
          "name": "stdout"
        }
      ]
    },
    {
      "cell_type": "code",
      "metadata": {
        "id": "XSSuyDl3F72L",
        "colab_type": "code",
        "outputId": "f0663fde-3455-4627-bfc2-648fa48aa3b0",
        "colab": {
          "base_uri": "https://localhost:8080/",
          "height": 355
        }
      },
      "source": [
        "dict_1={'columns_name': train.columns, 'impor':log.feature_importances_ }\n",
        "importance= {'gyro': 0, 'acc': 0}\n",
        "for name, value in zip( train.columns,log.feature_importances_):\n",
        "  if 'Gyro' in name:\n",
        "    importance['gyro']+= value\n",
        "  if \"Acc\" in name:\n",
        "    importance['acc']+= value\n",
        "plot_data_1= pd.DataFrame.from_dict(importance, orient='index')\n",
        "plot_data_1.plot.bar()\n",
        "plt.show()"
      ],
      "execution_count": 0,
      "outputs": [
        {
          "output_type": "display_data",
          "data": {
            "image/png": "[encoded data removed]",
            "text/plain": [
              "<Figure size 576x396 with 1 Axes>"
            ]
          },
          "metadata": {
            "tags": []
          }
        }
      ]
    },
    {
      "cell_type": "markdown",
      "metadata": {
        "id": "bp6-3JJe2Eu5",
        "colab_type": "text"
      },
      "source": [
        "**Now checking for Person Catagory**\n",
        "\n",
        "\n",
        "\n",
        "\n"
      ]
    },
    {
      "cell_type": "code",
      "metadata": {
        "id": "WQPKMdqd0p7f",
        "colab_type": "code",
        "outputId": "e7fd3193-b676-44b9-b240-b42a2ae829bb",
        "colab": {
          "base_uri": "https://localhost:8080/",
          "height": 34
        }
      },
      "source": [
        "y= Subject_data\n",
        "x_train, x_test, y_train, y_test= train_test_split(x,y, test_size=0.3)\n",
        "log=LogisticRegression()\n",
        "log.fit(x_train, y_train)\n",
        "y_pred= log.predict(x_test)\n",
        "score=accuracy_score(y_test, y_pred)\n",
        "print(score)"
      ],
      "execution_count": 0,
      "outputs": [
        {
          "output_type": "stream",
          "text": [
            "0.7\n"
          ],
          "name": "stdout"
        }
      ]
    },
    {
      "cell_type": "markdown",
      "metadata": {
        "id": "0RdzTVUK2vhO",
        "colab_type": "text"
      },
      "source": [
        "***Now if we know the Activity 'Can we identify the person'***"
      ]
    },
    {
      "cell_type": "code",
      "metadata": {
        "id": "2GCq6VnG3Cgq",
        "colab_type": "code",
        "outputId": "0ac1f90b-9e09-42b4-ea2a-7b1d74a4f470",
        "colab": {
          "base_uri": "https://localhost:8080/",
          "height": 123
        }
      },
      "source": [
        "for i in label.value_counts().index:\n",
        "  data_set= train[label==i]\n",
        "  y=Subject_data[label==i]\n",
        "  x_train, x_test, y_train, y_test= train_test_split(data_set,y, test_size=0.3)\n",
        "  log=LogisticRegression()\n",
        "  log.fit(x_train, y_train)\n",
        "  y_pred= log.predict(x_test)\n",
        "  score=accuracy_score(y_test, y_pred)\n",
        "  print(i,' : ',score)\n"
      ],
      "execution_count": 0,
      "outputs": [
        {
          "output_type": "stream",
          "text": [
            "LAYING  :  0.8013698630136986\n",
            "STANDING  :  0.6118881118881119\n",
            "SITTING  :  0.5580524344569289\n",
            "WALKING  :  1.0\n",
            "WALKING_UPSTAIRS  :  1.0\n",
            "WALKING_DOWNSTAIRS  :  0.990521327014218\n"
          ],
          "name": "stdout"
        }
      ]
    },
    {
      "cell_type": "markdown",
      "metadata": {
        "id": "8p9vlgpsIrUg",
        "colab_type": "text"
      },
      "source": [
        "***Time for  starirs***"
      ]
    },
    {
      "cell_type": "code",
      "metadata": {
        "id": "GQ7JbVv3VaHh",
        "colab_type": "code",
        "outputId": "6e06bf20-6f26-46bc-f43b-0e836392a047",
        "colab": {
          "base_uri": "https://localhost:8080/",
          "height": 442
        }
      },
      "source": [
        "plt.figure(figsize=(22,7))\n",
        "train_copy['extra']='ext'\n",
        "data_modified=(train_copy.groupby(['Activity','subject'])['extra'].count()*1.28)[['WALKING_UPSTAIRS','WALKING_DOWNSTAIRS']].reset_index()\n",
        "data_modified.columns=['Activity','subject','count']\n",
        "import seaborn as sns\n",
        "sns.barplot('subject','count',data=data_modified, hue='Activity')\n",
        "plt.show()\n"
      ],
      "execution_count": 0,
      "outputs": [
        {
          "output_type": "display_data",
          "data": {
            "image/png": "[encoded data removed]",
            "text/plain": [
              "<Figure size 1584x504 with 1 Axes>"
            ]
          },
          "metadata": {
            "tags": []
          }
        }
      ]
    },
    {
      "cell_type": "code",
      "metadata": {
        "id": "70oCyTM6Woud",
        "colab_type": "code",
        "outputId": "18b08c32-f44d-4c8c-89a9-f94804967f5a",
        "colab": {
          "base_uri": "https://localhost:8080/",
          "height": 430
        }
      },
      "source": [
        "plt.figure(figsize=(25,7))\n",
        "data_converted=pd.concat([data_modified.iloc[0:30]['count'],data_modified.iloc[30: ]['count'].reset_index(drop=True)],axis=1)\n",
        "data_converted.columns=['upstaris','downstairs']\n",
        "data_converted.index +=1\n",
        "ratio_data= (data_converted['upstaris']/data_converted['downstairs']).sort_values(ascending=False)\n",
        "ratio_data.plot.bar()\n",
        "plt.show()\n"
      ],
      "execution_count": 0,
      "outputs": [
        {
          "output_type": "display_data",
          "data": {
            "image/png": "[encoded data removed]",
            "text/plain": [
              "<Figure size 1800x504 with 1 Axes>"
            ]
          },
          "metadata": {
            "tags": []
          }
        }
      ]
    },
    {
      "cell_type": "code",
      "metadata": {
        "id": "IJ_JQz2fA-rg",
        "colab_type": "code",
        "outputId": "87f4481e-5bc1-4db0-b474-aac65c052f33",
        "colab": {
          "base_uri": "https://localhost:8080/",
          "height": 123
        }
      },
      "source": [
        "label.head(5)"
      ],
      "execution_count": 0,
      "outputs": [
        {
          "output_type": "execute_result",
          "data": {
            "text/plain": [
              "0    LAYING\n",
              "1    LAYING\n",
              "2    LAYING\n",
              "3    LAYING\n",
              "4    LAYING\n",
              "Name: Activity, dtype: object"
            ]
          },
          "metadata": {
            "tags": []
          },
          "execution_count": 26
        }
      ]
    },
    {
      "cell_type": "code",
      "metadata": {
        "id": "HOHmG6897prb",
        "colab_type": "code",
        "outputId": "075d1180-3f68-49dc-8d86-58c1f11f8b0b",
        "colab": {
          "base_uri": "https://localhost:8080/",
          "height": 257
        }
      },
      "source": [
        "train['data']= 'hello'\n",
        "(train.groupby([label, Subject_data])['data'].count().reset_index().groupby('Activity').agg({'data':'mean'})* 1.28).rename(columns={'data':'Seconds'})"
      ],
      "execution_count": 0,
      "outputs": [
        {
          "output_type": "execute_result",
          "data": {
            "text/html": [
              "<div>\n",
              "<style scoped>\n",
              "    .dataframe tbody tr th:only-of-type {\n",
              "        vertical-align: middle;\n",
              "    }\n",
              "\n",
              "    .dataframe tbody tr th {\n",
              "        vertical-align: top;\n",
              "    }\n",
              "\n",
              "    .dataframe thead th {\n",
              "        text-align: right;\n",
              "    }\n",
              "</style>\n",
              "<table border=\"1\" class=\"dataframe\">\n",
              "  <thead>\n",
              "    <tr style=\"text-align: right;\">\n",
              "      <th></th>\n",
              "      <th>Seconds</th>\n",
              "    </tr>\n",
              "    <tr>\n",
              "      <th>Activity</th>\n",
              "      <th></th>\n",
              "    </tr>\n",
              "  </thead>\n",
              "  <tbody>\n",
              "    <tr>\n",
              "      <th>LAYING</th>\n",
              "      <td>82.944000</td>\n",
              "    </tr>\n",
              "    <tr>\n",
              "      <th>SITTING</th>\n",
              "      <td>75.818667</td>\n",
              "    </tr>\n",
              "    <tr>\n",
              "      <th>STANDING</th>\n",
              "      <td>81.322667</td>\n",
              "    </tr>\n",
              "    <tr>\n",
              "      <th>WALKING</th>\n",
              "      <td>73.472000</td>\n",
              "    </tr>\n",
              "    <tr>\n",
              "      <th>WALKING_DOWNSTAIRS</th>\n",
              "      <td>59.989333</td>\n",
              "    </tr>\n",
              "    <tr>\n",
              "      <th>WALKING_UPSTAIRS</th>\n",
              "      <td>65.877333</td>\n",
              "    </tr>\n",
              "  </tbody>\n",
              "</table>\n",
              "</div>"
            ],
            "text/plain": [
              "                      Seconds\n",
              "Activity                     \n",
              "LAYING              82.944000\n",
              "SITTING             75.818667\n",
              "STANDING            81.322667\n",
              "WALKING             73.472000\n",
              "WALKING_DOWNSTAIRS  59.989333\n",
              "WALKING_UPSTAIRS    65.877333"
            ]
          },
          "metadata": {
            "tags": []
          },
          "execution_count": 33
        }
      ]
    },
    {
      "cell_type": "code",
      "metadata": {
        "id": "tLU4fFytKcNa",
        "colab_type": "code",
        "outputId": "c3738d5c-1fdb-45cf-fdb4-81bb75262739",
        "colab": {
          "base_uri": "https://localhost:8080/",
          "height": 378
        }
      },
      "source": [
        "plot_data=(train.loc[label.isin(['WALKING_DOWNSTAIRS' ,'WALKING_UPSTAIRS']),'data' ].groupby([label,Subject_data]).count()*1.28).reset_index()\n",
        "sns.barplot(x='subject', y= 'data', data=plot_data, hue='Activity')"
      ],
      "execution_count": 0,
      "outputs": [
        {
          "output_type": "execute_result",
          "data": {
            "text/plain": [
              "<matplotlib.axes._subplots.AxesSubplot at 0x7fece8378d30>"
            ]
          },
          "metadata": {
            "tags": []
          },
          "execution_count": 62
        },
        {
          "output_type": "display_data",
          "data": {
            "image/png": "[encoded data removed]",
            "text/plain": [
              "<Figure size 576x396 with 1 Axes>"
            ]
          },
          "metadata": {
            "tags": []
          }
        }
      ]
    }
  ]
}