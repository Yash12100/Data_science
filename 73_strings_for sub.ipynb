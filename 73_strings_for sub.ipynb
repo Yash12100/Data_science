{
  "nbformat": 4,
  "nbformat_minor": 0,
  "metadata": {
    "colab": {
      "name": "73_strings.ipynb",
      "version": "0.3.2",
      "provenance": [],
      "collapsed_sections": [
        "PDhvV3DmpwBV",
        "475uFOlmrYP5",
        "m4lBQjvisaav",
        "qI-0jjlc2heW",
        "uBxiECtYtq5_",
        "ZIkNmgCUGU7d",
        "3zXW9ESqQLEg",
        "VnEXUTRDvAel",
        "Jnw9e6slvRLS"
      ]
    },
    "kernelspec": {
      "name": "python3",
      "display_name": "Python 3"
    }
  },
  "cells": [
    {
      "metadata": {
        "id": "PDhvV3DmpwBV",
        "colab_type": "text"
      },
      "cell_type": "markdown",
      "source": [
        "# **Prerequisite -Import the required packages.**\n",
        "\n",
        "1. For Data importing and Manipulations --> Pandas,numpy\n",
        "2. For Data Visualization --> seaborn, matplotlib\n",
        "3. For Natural Language Processing --> nltk\n",
        "4. For modelling --> sklearn"
      ]
    },
    {
      "metadata": {
        "id": "6s55vWDLpRaf",
        "colab_type": "code",
        "outputId": "27cdcd97-a1f4-4cb4-cbc5-14cc32897483",
        "colab": {
          "base_uri": "https://localhost:8080/",
          "height": 170
        }
      },
      "cell_type": "code",
      "source": [
        "import pandas as pd\n",
        "import numpy as np\n",
        "import matplotlib.pyplot as plt\n",
        "import seaborn as sns\n",
        "from nltk.tokenize import word_tokenize\n",
        "from nltk.corpus import stopwords, wordnet\n",
        "import nltk\n",
        "nltk.download('punkt')\n",
        "nltk.download('wordnet')\n",
        "nltk.download('averaged_perceptron_tagger')\n",
        "nltk.download('stopwords')\n",
        "import re\n",
        "import string\n",
        "from nltk.stem import WordNetLemmatizer\n",
        "from sklearn.feature_extraction.text import CountVectorizer, TfidfVectorizer\n",
        "from sklearn.model_selection import train_test_split,KFold,cross_val_score\n",
        "from sklearn.metrics import accuracy_score\n",
        "import warnings\n",
        "warnings.filterwarnings('ignore')"
      ],
      "execution_count": 4,
      "outputs": [
        {
          "output_type": "stream",
          "text": [
            "[nltk_data] Downloading package punkt to /root/nltk_data...\n",
            "[nltk_data]   Unzipping tokenizers/punkt.zip.\n",
            "[nltk_data] Downloading package wordnet to /root/nltk_data...\n",
            "[nltk_data]   Unzipping corpora/wordnet.zip.\n",
            "[nltk_data] Downloading package averaged_perceptron_tagger to\n",
            "[nltk_data]     /root/nltk_data...\n",
            "[nltk_data]   Unzipping taggers/averaged_perceptron_tagger.zip.\n",
            "[nltk_data] Downloading package stopwords to /root/nltk_data...\n",
            "[nltk_data]   Unzipping corpora/stopwords.zip.\n"
          ],
          "name": "stdout"
        }
      ]
    },
    {
      "metadata": {
        "id": "475uFOlmrYP5",
        "colab_type": "text"
      },
      "cell_type": "markdown",
      "source": [
        "# **Importing the data from Github Repository**(Step Below)\n",
        "\n",
        "1. Training Data\n",
        "2. Testing Data\n",
        "\n",
        "Marked the traning and testing Data with \"**Identity**\" to do the Data processing in one step.\n"
      ]
    },
    {
      "metadata": {
        "id": "Fx0AK_QzrE0-",
        "colab_type": "code",
        "outputId": "6b4386b4-2fb5-496e-88ce-00c7c9939629",
        "colab": {
          "base_uri": "https://localhost:8080/",
          "height": 306
        }
      },
      "cell_type": "code",
      "source": [
        "train_data= pd.read_csv('https://raw.githubusercontent.com/Yash12100/Data_science/master/Training%20Data.csv', encoding='latin-1')\n",
        "test_data= pd.read_csv('https://raw.githubusercontent.com/Yash12100/Data_science/master/Company_%20Business%20Description.csv', encoding='latin-1')\n",
        "train_data['identity'] = \"train\"\n",
        "test_data['identity'] = \"test\"\n",
        "train_data.head(5)\n"
      ],
      "execution_count": 5,
      "outputs": [
        {
          "output_type": "execute_result",
          "data": {
            "text/html": [
              "<div>\n",
              "<style scoped>\n",
              "    .dataframe tbody tr th:only-of-type {\n",
              "        vertical-align: middle;\n",
              "    }\n",
              "\n",
              "    .dataframe tbody tr th {\n",
              "        vertical-align: top;\n",
              "    }\n",
              "\n",
              "    .dataframe thead th {\n",
              "        text-align: right;\n",
              "    }\n",
              "</style>\n",
              "<table border=\"1\" class=\"dataframe\">\n",
              "  <thead>\n",
              "    <tr style=\"text-align: right;\">\n",
              "      <th></th>\n",
              "      <th>Company Name</th>\n",
              "      <th>Exchange:Ticker</th>\n",
              "      <th>Company Type</th>\n",
              "      <th>Company Status</th>\n",
              "      <th>Geographic Locations</th>\n",
              "      <th>Business Description</th>\n",
              "      <th>Industry Classifications</th>\n",
              "      <th>Security Tickers</th>\n",
              "      <th>identity</th>\n",
              "    </tr>\n",
              "  </thead>\n",
              "  <tbody>\n",
              "    <tr>\n",
              "      <th>0</th>\n",
              "      <td>024 Pharma, Inc. (OTCPK:EEIG)</td>\n",
              "      <td>OTCPK:EEIG</td>\n",
              "      <td>Public Company</td>\n",
              "      <td>Operating</td>\n",
              "      <td>United States of America (Primary)</td>\n",
              "      <td>024 Pharma, Inc. provides healthcare products ...</td>\n",
              "      <td>Beauty Care Products (Primary); Consumer Stapl...</td>\n",
              "      <td>OTCPK:EEIG</td>\n",
              "      <td>train</td>\n",
              "    </tr>\n",
              "    <tr>\n",
              "      <th>1</th>\n",
              "      <td>1-800-FLOWERS.COM, Inc. (NasdaqGS:FLWS)</td>\n",
              "      <td>NasdaqGS:FLWS</td>\n",
              "      <td>Public Company</td>\n",
              "      <td>Operating</td>\n",
              "      <td>United States of America (Primary)</td>\n",
              "      <td>1-800-Flowers.com, Inc., together with its sub...</td>\n",
              "      <td>Catalog Flowers, Gifts and Novelties (Primary)...</td>\n",
              "      <td>NasdaqGS:FLWS; DB:FWC</td>\n",
              "      <td>train</td>\n",
              "    </tr>\n",
              "    <tr>\n",
              "      <th>2</th>\n",
              "      <td>12 Retech Corporation (OTCPK:RETC)</td>\n",
              "      <td>OTCPK:RETC</td>\n",
              "      <td>Public Company</td>\n",
              "      <td>Operating</td>\n",
              "      <td>United States of America (Primary)</td>\n",
              "      <td>12 Retech Corporation, through its subsidiarie...</td>\n",
              "      <td>Information Technology (Primary); Internet Sof...</td>\n",
              "      <td>OTCPK:RETC</td>\n",
              "      <td>train</td>\n",
              "    </tr>\n",
              "    <tr>\n",
              "      <th>3</th>\n",
              "      <td>1347 Property Insurance Holdings, Inc. (Nasdaq...</td>\n",
              "      <td>NasdaqGM:PIH</td>\n",
              "      <td>Public Company</td>\n",
              "      <td>Operating</td>\n",
              "      <td>United States of America (Primary)</td>\n",
              "      <td>1347 Property Insurance Holdings, Inc., throug...</td>\n",
              "      <td>Casualty (Primary); Financials (Primary); Fire...</td>\n",
              "      <td>NasdaqGM:PIH</td>\n",
              "      <td>train</td>\n",
              "    </tr>\n",
              "    <tr>\n",
              "      <th>4</th>\n",
              "      <td>1847 Holdings LLC (OTCPK:EFSH)</td>\n",
              "      <td>OTCPK:EFSH</td>\n",
              "      <td>Public Company</td>\n",
              "      <td>Operating</td>\n",
              "      <td>United States of America (Primary)</td>\n",
              "      <td>1847 Holdings LLC, through its subsidiaries, p...</td>\n",
              "      <td>Commercial and Professional Services (Primary)...</td>\n",
              "      <td>OTCPK:EFSH</td>\n",
              "      <td>train</td>\n",
              "    </tr>\n",
              "  </tbody>\n",
              "</table>\n",
              "</div>"
            ],
            "text/plain": [
              "                                        Company Name Exchange:Ticker  \\\n",
              "0                      024 Pharma, Inc. (OTCPK:EEIG)      OTCPK:EEIG   \n",
              "1            1-800-FLOWERS.COM, Inc. (NasdaqGS:FLWS)   NasdaqGS:FLWS   \n",
              "2                 12 Retech Corporation (OTCPK:RETC)      OTCPK:RETC   \n",
              "3  1347 Property Insurance Holdings, Inc. (Nasdaq...    NasdaqGM:PIH   \n",
              "4                     1847 Holdings LLC (OTCPK:EFSH)      OTCPK:EFSH   \n",
              "\n",
              "     Company Type Company Status                Geographic Locations  \\\n",
              "0  Public Company      Operating  United States of America (Primary)   \n",
              "1  Public Company      Operating  United States of America (Primary)   \n",
              "2  Public Company      Operating  United States of America (Primary)   \n",
              "3  Public Company      Operating  United States of America (Primary)   \n",
              "4  Public Company      Operating  United States of America (Primary)   \n",
              "\n",
              "                                Business Description  \\\n",
              "0  024 Pharma, Inc. provides healthcare products ...   \n",
              "1  1-800-Flowers.com, Inc., together with its sub...   \n",
              "2  12 Retech Corporation, through its subsidiarie...   \n",
              "3  1347 Property Insurance Holdings, Inc., throug...   \n",
              "4  1847 Holdings LLC, through its subsidiaries, p...   \n",
              "\n",
              "                            Industry Classifications       Security Tickers  \\\n",
              "0  Beauty Care Products (Primary); Consumer Stapl...             OTCPK:EEIG   \n",
              "1  Catalog Flowers, Gifts and Novelties (Primary)...  NasdaqGS:FLWS; DB:FWC   \n",
              "2  Information Technology (Primary); Internet Sof...             OTCPK:RETC   \n",
              "3  Casualty (Primary); Financials (Primary); Fire...           NasdaqGM:PIH   \n",
              "4  Commercial and Professional Services (Primary)...             OTCPK:EFSH   \n",
              "\n",
              "  identity  \n",
              "0    train  \n",
              "1    train  \n",
              "2    train  \n",
              "3    train  \n",
              "4    train  "
            ]
          },
          "metadata": {
            "tags": []
          },
          "execution_count": 5
        }
      ]
    },
    {
      "metadata": {
        "id": "DqQPyMSotAPR",
        "colab_type": "code",
        "outputId": "82a16bda-4318-4212-8110-4f1b59901ea4",
        "colab": {
          "base_uri": "https://localhost:8080/",
          "height": 204
        }
      },
      "cell_type": "code",
      "source": [
        "test_data.head(5)"
      ],
      "execution_count": 6,
      "outputs": [
        {
          "output_type": "execute_result",
          "data": {
            "text/html": [
              "<div>\n",
              "<style scoped>\n",
              "    .dataframe tbody tr th:only-of-type {\n",
              "        vertical-align: middle;\n",
              "    }\n",
              "\n",
              "    .dataframe tbody tr th {\n",
              "        vertical-align: top;\n",
              "    }\n",
              "\n",
              "    .dataframe thead th {\n",
              "        text-align: right;\n",
              "    }\n",
              "</style>\n",
              "<table border=\"1\" class=\"dataframe\">\n",
              "  <thead>\n",
              "    <tr style=\"text-align: right;\">\n",
              "      <th></th>\n",
              "      <th>Company Name</th>\n",
              "      <th>Exchange:Ticker</th>\n",
              "      <th>Company Type</th>\n",
              "      <th>Company Status</th>\n",
              "      <th>Geographic Locations</th>\n",
              "      <th>Business Description</th>\n",
              "      <th>Security Tickers</th>\n",
              "      <th>identity</th>\n",
              "    </tr>\n",
              "  </thead>\n",
              "  <tbody>\n",
              "    <tr>\n",
              "      <th>0</th>\n",
              "      <td>024 Pharma, Inc. (OTCPK:EEIG)</td>\n",
              "      <td>OTCPK:EEIG</td>\n",
              "      <td>Public Company</td>\n",
              "      <td>Operating</td>\n",
              "      <td>United States of America (Primary)</td>\n",
              "      <td>024 Pharma, Inc. provides healthcare products ...</td>\n",
              "      <td>OTCPK:EEIG</td>\n",
              "      <td>test</td>\n",
              "    </tr>\n",
              "    <tr>\n",
              "      <th>1</th>\n",
              "      <td>1-800-FLOWERS.COM, Inc. (NasdaqGS:FLWS)</td>\n",
              "      <td>NasdaqGS:FLWS</td>\n",
              "      <td>Public Company</td>\n",
              "      <td>Operating</td>\n",
              "      <td>United States of America (Primary)</td>\n",
              "      <td>1-800-Flowers.com, Inc., together with its sub...</td>\n",
              "      <td>NasdaqGS:FLWS; DB:FWC</td>\n",
              "      <td>test</td>\n",
              "    </tr>\n",
              "    <tr>\n",
              "      <th>2</th>\n",
              "      <td>12 Retech Corporation (OTCPK:RETC)</td>\n",
              "      <td>OTCPK:RETC</td>\n",
              "      <td>Public Company</td>\n",
              "      <td>Operating</td>\n",
              "      <td>United States of America (Primary)</td>\n",
              "      <td>12 Retech Corporation, through its subsidiarie...</td>\n",
              "      <td>OTCPK:RETC</td>\n",
              "      <td>test</td>\n",
              "    </tr>\n",
              "    <tr>\n",
              "      <th>3</th>\n",
              "      <td>1347 Property Insurance Holdings, Inc. (Nasdaq...</td>\n",
              "      <td>NasdaqGM:PIH</td>\n",
              "      <td>Public Company</td>\n",
              "      <td>Operating</td>\n",
              "      <td>United States of America (Primary)</td>\n",
              "      <td>1347 Property Insurance Holdings, Inc., throug...</td>\n",
              "      <td>NasdaqGM:PIH</td>\n",
              "      <td>test</td>\n",
              "    </tr>\n",
              "    <tr>\n",
              "      <th>4</th>\n",
              "      <td>1847 Holdings LLC (OTCPK:EFSH)</td>\n",
              "      <td>OTCPK:EFSH</td>\n",
              "      <td>Public Company</td>\n",
              "      <td>Operating</td>\n",
              "      <td>United States of America (Primary)</td>\n",
              "      <td>1847 Holdings LLC, through its subsidiaries, p...</td>\n",
              "      <td>OTCPK:EFSH</td>\n",
              "      <td>test</td>\n",
              "    </tr>\n",
              "  </tbody>\n",
              "</table>\n",
              "</div>"
            ],
            "text/plain": [
              "                                        Company Name Exchange:Ticker  \\\n",
              "0                      024 Pharma, Inc. (OTCPK:EEIG)      OTCPK:EEIG   \n",
              "1            1-800-FLOWERS.COM, Inc. (NasdaqGS:FLWS)   NasdaqGS:FLWS   \n",
              "2                 12 Retech Corporation (OTCPK:RETC)      OTCPK:RETC   \n",
              "3  1347 Property Insurance Holdings, Inc. (Nasdaq...    NasdaqGM:PIH   \n",
              "4                     1847 Holdings LLC (OTCPK:EFSH)      OTCPK:EFSH   \n",
              "\n",
              "     Company Type Company Status                Geographic Locations  \\\n",
              "0  Public Company      Operating  United States of America (Primary)   \n",
              "1  Public Company      Operating  United States of America (Primary)   \n",
              "2  Public Company      Operating  United States of America (Primary)   \n",
              "3  Public Company      Operating  United States of America (Primary)   \n",
              "4  Public Company      Operating  United States of America (Primary)   \n",
              "\n",
              "                                Business Description       Security Tickers  \\\n",
              "0  024 Pharma, Inc. provides healthcare products ...             OTCPK:EEIG   \n",
              "1  1-800-Flowers.com, Inc., together with its sub...  NasdaqGS:FLWS; DB:FWC   \n",
              "2  12 Retech Corporation, through its subsidiarie...             OTCPK:RETC   \n",
              "3  1347 Property Insurance Holdings, Inc., throug...           NasdaqGM:PIH   \n",
              "4  1847 Holdings LLC, through its subsidiaries, p...             OTCPK:EFSH   \n",
              "\n",
              "  identity  \n",
              "0     test  \n",
              "1     test  \n",
              "2     test  \n",
              "3     test  \n",
              "4     test  "
            ]
          },
          "metadata": {
            "tags": []
          },
          "execution_count": 6
        }
      ]
    },
    {
      "metadata": {
        "id": "oIpGJwUJuatx",
        "colab_type": "code",
        "outputId": "36b7bdcd-d7e4-44e9-bb76-85a6484c8836",
        "colab": {
          "base_uri": "https://localhost:8080/",
          "height": 255
        }
      },
      "cell_type": "code",
      "source": [
        "train_data.info()"
      ],
      "execution_count": 7,
      "outputs": [
        {
          "output_type": "stream",
          "text": [
            "<class 'pandas.core.frame.DataFrame'>\n",
            "RangeIndex: 2002 entries, 0 to 2001\n",
            "Data columns (total 9 columns):\n",
            "Company Name                2002 non-null object\n",
            "Exchange:Ticker             2002 non-null object\n",
            "Company Type                2002 non-null object\n",
            "Company Status              2002 non-null object\n",
            "Geographic Locations        2002 non-null object\n",
            "Business Description        2002 non-null object\n",
            "Industry Classifications    2002 non-null object\n",
            "Security Tickers            2002 non-null object\n",
            "identity                    2002 non-null object\n",
            "dtypes: object(9)\n",
            "memory usage: 140.8+ KB\n"
          ],
          "name": "stdout"
        }
      ]
    },
    {
      "metadata": {
        "id": "m4lBQjvisaav",
        "colab_type": "text"
      },
      "cell_type": "markdown",
      "source": [
        "\n",
        "# Number of categories in training and testing Data Set.\n",
        "\n",
        "After fetching the data from Github Repository in the step above,all the Independent and Dependent Variables are now Categorized.\n",
        "\n",
        "Hence,the data below is showing the **number of categories in training and testing Data Set.**"
      ]
    },
    {
      "metadata": {
        "id": "9j9SSh3hunlP",
        "colab_type": "code",
        "outputId": "4cbdcc51-31ec-4e17-a1b3-2d3864e316e6",
        "colab": {
          "base_uri": "https://localhost:8080/",
          "height": 391
        }
      },
      "cell_type": "code",
      "source": [
        "print(\"Train:\\n\",train_data.apply(lambda x: len(x.unique())))\n",
        "print(\"\\nTest:\\n\",test_data.apply(lambda x: len(x.unique())))"
      ],
      "execution_count": 8,
      "outputs": [
        {
          "output_type": "stream",
          "text": [
            "Train:\n",
            " Company Name                2002\n",
            "Exchange:Ticker             1991\n",
            "Company Type                   1\n",
            "Company Status                 1\n",
            "Geographic Locations           1\n",
            "Business Description        1971\n",
            "Industry Classifications    1505\n",
            "Security Tickers            1996\n",
            "identity                       1\n",
            "dtype: int64\n",
            "\n",
            "Test:\n",
            " Company Name            8425\n",
            "Exchange:Ticker         8388\n",
            "Company Type               1\n",
            "Company Status             2\n",
            "Geographic Locations       2\n",
            "Business Description    8304\n",
            "Security Tickers        8402\n",
            "identity                   1\n",
            "dtype: int64\n"
          ],
          "name": "stdout"
        }
      ]
    },
    {
      "metadata": {
        "id": "qI-0jjlc2heW",
        "colab_type": "text"
      },
      "cell_type": "markdown",
      "source": [
        "# Sorting the relevant data\n",
        "\n",
        "I have **Removed the Data rows **which have** \" ---- \"** in the Business Description columns.\n",
        "\n",
        "For further steps,Checking the length of the training Data in the step mentioned below."
      ]
    },
    {
      "metadata": {
        "id": "f5nDTv9Av3_V",
        "colab_type": "code",
        "outputId": "4a9797b7-bf94-4eb3-dff3-773ada12d8df",
        "colab": {
          "base_uri": "https://localhost:8080/",
          "height": 34
        }
      },
      "cell_type": "code",
      "source": [
        "train_data=train_data.loc[train_data['Business Description'] != \"-\", :]\n",
        "len(train_data)"
      ],
      "execution_count": 9,
      "outputs": [
        {
          "output_type": "execute_result",
          "data": {
            "text/plain": [
              "1970"
            ]
          },
          "metadata": {
            "tags": []
          },
          "execution_count": 9
        }
      ]
    },
    {
      "metadata": {
        "id": "ZYk3jv2r3E2F",
        "colab_type": "text"
      },
      "cell_type": "markdown",
      "source": [
        "It is found that We have  a Training Data of **1970 Rows**.\n",
        "\n"
      ]
    },
    {
      "metadata": {
        "id": "iAEthn_ztIxI",
        "colab_type": "text"
      },
      "cell_type": "markdown",
      "source": [
        "Now we will keep the first classification in \"**Industry Classifications**\" column and will **remove the rest** of the values"
      ]
    },
    {
      "metadata": {
        "id": "Eys6PTezpAhT",
        "colab_type": "code",
        "outputId": "fbc8ef00-65aa-4f44-a360-0219b79585b8",
        "colab": {
          "base_uri": "https://localhost:8080/",
          "height": 1072
        }
      },
      "cell_type": "code",
      "source": [
        "train_data['Industry Classifications']=train_data['Industry Classifications'].apply(lambda x: x.split(' (P')[0].split(';')[0])\n",
        "catagories=pd.DataFrame(train_data['Industry Classifications'].value_counts())\n",
        "catagories=catagories.reset_index()\n",
        "catagories.columns= ['catag_sub', 'count']\n",
        "drop_1=list(catagories[catagories['count'] < 10]['catag_sub'])\n",
        "catagories[catagories['count'] >= 10]"
      ],
      "execution_count": 10,
      "outputs": [
        {
          "output_type": "execute_result",
          "data": {
            "text/html": [
              "<div>\n",
              "<style scoped>\n",
              "    .dataframe tbody tr th:only-of-type {\n",
              "        vertical-align: middle;\n",
              "    }\n",
              "\n",
              "    .dataframe tbody tr th {\n",
              "        vertical-align: top;\n",
              "    }\n",
              "\n",
              "    .dataframe thead th {\n",
              "        text-align: right;\n",
              "    }\n",
              "</style>\n",
              "<table border=\"1\" class=\"dataframe\">\n",
              "  <thead>\n",
              "    <tr style=\"text-align: right;\">\n",
              "      <th></th>\n",
              "      <th>catag_sub</th>\n",
              "      <th>count</th>\n",
              "    </tr>\n",
              "  </thead>\n",
              "  <tbody>\n",
              "    <tr>\n",
              "      <th>0</th>\n",
              "      <td>Banks</td>\n",
              "      <td>242</td>\n",
              "    </tr>\n",
              "    <tr>\n",
              "      <th>1</th>\n",
              "      <td>Healthcare</td>\n",
              "      <td>153</td>\n",
              "    </tr>\n",
              "    <tr>\n",
              "      <th>2</th>\n",
              "      <td>Biotechnology</td>\n",
              "      <td>145</td>\n",
              "    </tr>\n",
              "    <tr>\n",
              "      <th>3</th>\n",
              "      <td>Energy</td>\n",
              "      <td>132</td>\n",
              "    </tr>\n",
              "    <tr>\n",
              "      <th>4</th>\n",
              "      <td>Consumer Discretionary</td>\n",
              "      <td>114</td>\n",
              "    </tr>\n",
              "    <tr>\n",
              "      <th>5</th>\n",
              "      <td>Information Technology</td>\n",
              "      <td>106</td>\n",
              "    </tr>\n",
              "    <tr>\n",
              "      <th>6</th>\n",
              "      <td>Capital Goods</td>\n",
              "      <td>88</td>\n",
              "    </tr>\n",
              "    <tr>\n",
              "      <th>7</th>\n",
              "      <td>Commercial and Professional Services</td>\n",
              "      <td>86</td>\n",
              "    </tr>\n",
              "    <tr>\n",
              "      <th>8</th>\n",
              "      <td>Application Software</td>\n",
              "      <td>50</td>\n",
              "    </tr>\n",
              "    <tr>\n",
              "      <th>9</th>\n",
              "      <td>Communications Equipment</td>\n",
              "      <td>37</td>\n",
              "    </tr>\n",
              "    <tr>\n",
              "      <th>10</th>\n",
              "      <td>Consumer Staples</td>\n",
              "      <td>31</td>\n",
              "    </tr>\n",
              "    <tr>\n",
              "      <th>11</th>\n",
              "      <td>Chemicals</td>\n",
              "      <td>27</td>\n",
              "    </tr>\n",
              "    <tr>\n",
              "      <th>12</th>\n",
              "      <td>Application Hosting Services</td>\n",
              "      <td>27</td>\n",
              "    </tr>\n",
              "    <tr>\n",
              "      <th>13</th>\n",
              "      <td>Asset Management and Custody Banks</td>\n",
              "      <td>27</td>\n",
              "    </tr>\n",
              "    <tr>\n",
              "      <th>14</th>\n",
              "      <td>Aerospace and Defense</td>\n",
              "      <td>22</td>\n",
              "    </tr>\n",
              "    <tr>\n",
              "      <th>15</th>\n",
              "      <td>Electronic Equipment and Instruments</td>\n",
              "      <td>22</td>\n",
              "    </tr>\n",
              "    <tr>\n",
              "      <th>16</th>\n",
              "      <td>Advertising</td>\n",
              "      <td>18</td>\n",
              "    </tr>\n",
              "    <tr>\n",
              "      <th>17</th>\n",
              "      <td>Data Processing and Outsourced Services</td>\n",
              "      <td>17</td>\n",
              "    </tr>\n",
              "    <tr>\n",
              "      <th>18</th>\n",
              "      <td>Health Care Technology</td>\n",
              "      <td>17</td>\n",
              "    </tr>\n",
              "    <tr>\n",
              "      <th>19</th>\n",
              "      <td>Auto Components</td>\n",
              "      <td>17</td>\n",
              "    </tr>\n",
              "    <tr>\n",
              "      <th>20</th>\n",
              "      <td>Diversified Financials</td>\n",
              "      <td>15</td>\n",
              "    </tr>\n",
              "    <tr>\n",
              "      <th>21</th>\n",
              "      <td>Financials</td>\n",
              "      <td>15</td>\n",
              "    </tr>\n",
              "    <tr>\n",
              "      <th>22</th>\n",
              "      <td>Materials</td>\n",
              "      <td>14</td>\n",
              "    </tr>\n",
              "    <tr>\n",
              "      <th>23</th>\n",
              "      <td>Building Products</td>\n",
              "      <td>14</td>\n",
              "    </tr>\n",
              "    <tr>\n",
              "      <th>24</th>\n",
              "      <td>Automotive Retail</td>\n",
              "      <td>13</td>\n",
              "    </tr>\n",
              "    <tr>\n",
              "      <th>25</th>\n",
              "      <td>Gold</td>\n",
              "      <td>13</td>\n",
              "    </tr>\n",
              "    <tr>\n",
              "      <th>26</th>\n",
              "      <td>Anti-infective Drugs</td>\n",
              "      <td>12</td>\n",
              "    </tr>\n",
              "    <tr>\n",
              "      <th>27</th>\n",
              "      <td>Beverages</td>\n",
              "      <td>11</td>\n",
              "    </tr>\n",
              "    <tr>\n",
              "      <th>28</th>\n",
              "      <td>Apparel Retail</td>\n",
              "      <td>11</td>\n",
              "    </tr>\n",
              "    <tr>\n",
              "      <th>29</th>\n",
              "      <td>Alternative Carriers</td>\n",
              "      <td>10</td>\n",
              "    </tr>\n",
              "    <tr>\n",
              "      <th>30</th>\n",
              "      <td>Real Estate</td>\n",
              "      <td>10</td>\n",
              "    </tr>\n",
              "    <tr>\n",
              "      <th>31</th>\n",
              "      <td>Beauty Care Products</td>\n",
              "      <td>10</td>\n",
              "    </tr>\n",
              "    <tr>\n",
              "      <th>32</th>\n",
              "      <td>Nonresidential Building Operators and Lessors</td>\n",
              "      <td>10</td>\n",
              "    </tr>\n",
              "  </tbody>\n",
              "</table>\n",
              "</div>"
            ],
            "text/plain": [
              "                                        catag_sub  count\n",
              "0                                           Banks    242\n",
              "1                                      Healthcare    153\n",
              "2                                   Biotechnology    145\n",
              "3                                          Energy    132\n",
              "4                          Consumer Discretionary    114\n",
              "5                          Information Technology    106\n",
              "6                                   Capital Goods     88\n",
              "7            Commercial and Professional Services     86\n",
              "8                            Application Software     50\n",
              "9                        Communications Equipment     37\n",
              "10                               Consumer Staples     31\n",
              "11                                      Chemicals     27\n",
              "12                   Application Hosting Services     27\n",
              "13             Asset Management and Custody Banks     27\n",
              "14                          Aerospace and Defense     22\n",
              "15           Electronic Equipment and Instruments     22\n",
              "16                                    Advertising     18\n",
              "17        Data Processing and Outsourced Services     17\n",
              "18                         Health Care Technology     17\n",
              "19                                Auto Components     17\n",
              "20                         Diversified Financials     15\n",
              "21                                     Financials     15\n",
              "22                                      Materials     14\n",
              "23                              Building Products     14\n",
              "24                              Automotive Retail     13\n",
              "25                                           Gold     13\n",
              "26                           Anti-infective Drugs     12\n",
              "27                                      Beverages     11\n",
              "28                                 Apparel Retail     11\n",
              "29                           Alternative Carriers     10\n",
              "30                                    Real Estate     10\n",
              "31                           Beauty Care Products     10\n",
              "32  Nonresidential Building Operators and Lessors     10"
            ]
          },
          "metadata": {
            "tags": []
          },
          "execution_count": 10
        }
      ]
    },
    {
      "metadata": {
        "id": "uTlMfveKBl5r",
        "colab_type": "text"
      },
      "cell_type": "markdown",
      "source": [
        "As, we can see there are  **\"33\"** Catagories in the dependent variable\n",
        "\n"
      ]
    },
    {
      "metadata": {
        "id": "uBxiECtYtq5_",
        "colab_type": "text"
      },
      "cell_type": "markdown",
      "source": [
        "# Distribution of Sorted data(33 Categories)."
      ]
    },
    {
      "metadata": {
        "id": "UQ2S5S6lzz3j",
        "colab_type": "code",
        "outputId": "53c182c0-4550-45af-ec81-14855be1b2c5",
        "colab": {
          "base_uri": "https://localhost:8080/",
          "height": 599
        }
      },
      "cell_type": "code",
      "source": [
        "plt.figure(figsize=(20,6))\n",
        "color_map= plt.cm.nipy_spectral\n",
        "axx=plt.subplot()\n",
        "axx.set_prop_cycle('color',[color_map(i) for i in np.linspace(0, 1,30)])\n",
        "plt.yticks([10, 20, 40,100,150,200,250])\n",
        "\n",
        "train_data['Industry Classifications'].value_counts()[0:33].plot(kind='bar')\n",
        "plt.title('Data in each Catagory with frequency above 10')\n",
        "plt.ylabel('Count in each category')\n",
        "plt.xlabel('Catagories in Industry Classifications')\n",
        "plt.show()"
      ],
      "execution_count": 11,
      "outputs": [
        {
          "output_type": "display_data",
          "data": {
            "image/png": "[encoded data removed]",
            "text/plain": [
              "<Figure size 1440x432 with 1 Axes>"
            ]
          },
          "metadata": {
            "tags": []
          }
        }
      ]
    },
    {
      "metadata": {
        "id": "DBSwJTWqEwPA",
        "colab_type": "text"
      },
      "cell_type": "markdown",
      "source": [
        "From the above graph, we can see that there are many categories which have very less frequency.\n",
        "\n",
        "So, we need to** club the categories** in order to avoid the **biase in the predictive model**.\n",
        "\n",
        "Henceforth,We will start by removing the categories, with **frequency less than 10**"
      ]
    },
    {
      "metadata": {
        "id": "OnX6-ZwPvODv",
        "colab_type": "code",
        "outputId": "0e9ab862-9bb9-4318-a295-cb6a54e939a1",
        "colab": {
          "base_uri": "https://localhost:8080/",
          "height": 34
        }
      },
      "cell_type": "code",
      "source": [
        "train_data['kept']=train_data['Industry Classifications'].apply(lambda x : 'drop' if x in drop_1 else 'keep' )\n",
        "bool_1=train_data['kept'] !='drop'\n",
        "train_data=train_data.loc[bool_1,:]\n",
        "train_data.drop(['kept'], axis=1, inplace=True)\n",
        "train_data.shape"
      ],
      "execution_count": 12,
      "outputs": [
        {
          "output_type": "execute_result",
          "data": {
            "text/plain": [
              "(1536, 9)"
            ]
          },
          "metadata": {
            "tags": []
          },
          "execution_count": 12
        }
      ]
    },
    {
      "metadata": {
        "id": "8T2gVu0VuNyF",
        "colab_type": "text"
      },
      "cell_type": "markdown",
      "source": [
        "After removing, we are left with **1536 **rows"
      ]
    },
    {
      "metadata": {
        "id": "ZIkNmgCUGU7d",
        "colab_type": "text"
      },
      "cell_type": "markdown",
      "source": [
        "# Merging the relevant data\n",
        "\n",
        "\n",
        "                               \n",
        "                     **BEFORE NAMES**                                        ***AFTER NAMES***\n",
        "1. 'Information Technology','Application Software','Data Processing and Outsourced Services'  -------> 'Information Technology'\n",
        "2. 'Beverages','Beauty Care Products','Apparel Retail'--------------------------------------------------------------------------> 'Consumer Discretionary'\n",
        "3. 'Alternative Carriers','Advertising','Application Hosting Services'-----------------------------------------------------> 'Commercial and Professional Services'\n",
        "4. 'Communications Equipment'---------------------------------------------------------------------------------------------------------> 'Electronic Equipment and Instruments'\n",
        "5. 'Health Care Technology','Anti-infective Drugs','Healthcare'------------------------------------------------------------> 'Biotechnology'\n",
        "6. 'Building Products','Chemicals'-------------------------------------------------------------------------------------------------------->  ''Capital Goods'\n",
        "7. 'Automotive Retail','Auto Components'-------------------------------------------------------------------------------------------->  'Automotive'\n",
        "8. 'Nonresidential Building Operators and Lessors' --------------------------------------------------------------------------->  'Real Estate'\n",
        "9. 'Gold' ---------------------------------------------------------------------------------------------------------------------------------------------->  'Materials'"
      ]
    },
    {
      "metadata": {
        "id": "vg2zR_XhSWDk",
        "colab_type": "code",
        "colab": {}
      },
      "cell_type": "code",
      "source": [
        "k= ['Information Technology','Application Software','Data Processing and Outsourced Services']\n",
        "train_data['Industry Classifications'] = train_data['Industry Classifications'].apply(lambda x :'Information Technology'  if x in k else x)"
      ],
      "execution_count": 0,
      "outputs": []
    },
    {
      "metadata": {
        "id": "irs30eWrT4x7",
        "colab_type": "code",
        "colab": {}
      },
      "cell_type": "code",
      "source": [
        "k= ['Beverages','Beauty Care Products','Apparel Retail']\n",
        "train_data['Industry Classifications'] = train_data['Industry Classifications'].apply(lambda x :'Consumer Discretionary'  if x in k else x)"
      ],
      "execution_count": 0,
      "outputs": []
    },
    {
      "metadata": {
        "id": "Nc0NXlanVLEF",
        "colab_type": "code",
        "colab": {}
      },
      "cell_type": "code",
      "source": [
        "k= ['Alternative Carriers','Advertising','Application Hosting Services']\n",
        "train_data['Industry Classifications'] = train_data['Industry Classifications'].apply(lambda x :'Commercial and Professional Services'  if x in k else x)"
      ],
      "execution_count": 0,
      "outputs": []
    },
    {
      "metadata": {
        "id": "4Yd_diytXbCT",
        "colab_type": "code",
        "colab": {}
      },
      "cell_type": "code",
      "source": [
        "k= ['Communications Equipment']\n",
        "train_data['Industry Classifications'] = train_data['Industry Classifications'].apply(lambda x :'Electronic Equipment and Instruments'  if x in k else x)"
      ],
      "execution_count": 0,
      "outputs": []
    },
    {
      "metadata": {
        "id": "CL0OpENOX_jq",
        "colab_type": "code",
        "colab": {}
      },
      "cell_type": "code",
      "source": [
        "k= ['Health Care Technology','Anti-infective Drugs','Healthcare']\n",
        "train_data['Industry Classifications'] = train_data['Industry Classifications'].apply(lambda x :'Biotechnology'  if x in k else x)"
      ],
      "execution_count": 0,
      "outputs": []
    },
    {
      "metadata": {
        "id": "-ZqRD_gvYar-",
        "colab_type": "code",
        "colab": {}
      },
      "cell_type": "code",
      "source": [
        "k= ['Banks','Diversified Financials','Asset Management and Custody Banks']\n",
        "train_data['Industry Classifications'] = train_data['Industry Classifications'].apply(lambda x : 'Financials'  if x in k else x)"
      ],
      "execution_count": 0,
      "outputs": []
    },
    {
      "metadata": {
        "id": "kwhAx5cIY9vt",
        "colab_type": "code",
        "colab": {}
      },
      "cell_type": "code",
      "source": [
        "k= ['Building Products','Chemicals']\n",
        "train_data['Industry Classifications'] = train_data['Industry Classifications'].apply(lambda x : 'Capital Goods'  if x in k else x)"
      ],
      "execution_count": 0,
      "outputs": []
    },
    {
      "metadata": {
        "id": "EX3urxGzZfKm",
        "colab_type": "code",
        "colab": {}
      },
      "cell_type": "code",
      "source": [
        "k= ['Automotive Retail','Auto Components']\n",
        "train_data['Industry Classifications'] = train_data['Industry Classifications'].apply(lambda x : 'Automotive'  if x in k else x)"
      ],
      "execution_count": 0,
      "outputs": []
    },
    {
      "metadata": {
        "id": "rstvllbaZNPk",
        "colab_type": "code",
        "colab": {}
      },
      "cell_type": "code",
      "source": [
        "k= ['Nonresidential Building Operators and Lessors']\n",
        "train_data['Industry Classifications'] = train_data['Industry Classifications'].apply(lambda x : 'Real Estate'  if x in k else x)"
      ],
      "execution_count": 0,
      "outputs": []
    },
    {
      "metadata": {
        "id": "Yc99IdZKZvRP",
        "colab_type": "code",
        "colab": {}
      },
      "cell_type": "code",
      "source": [
        "k= ['Gold']\n",
        "train_data['Industry Classifications'] = train_data['Industry Classifications'].apply(lambda x : 'Materials'  if x in k else x)"
      ],
      "execution_count": 0,
      "outputs": []
    },
    {
      "metadata": {
        "id": "3zXW9ESqQLEg",
        "colab_type": "text"
      },
      "cell_type": "markdown",
      "source": [
        "# Viewing the Updated Industry Classification Distribution.\n",
        "\n"
      ]
    },
    {
      "metadata": {
        "id": "TkP0JDKjitac",
        "colab_type": "code",
        "outputId": "923f7565-5a55-44e2-ad62-1b5c41f7723f",
        "colab": {
          "base_uri": "https://localhost:8080/",
          "height": 658
        }
      },
      "cell_type": "code",
      "source": [
        "plt.figure(figsize=(20,8))\n",
        "axx=plt.subplot(1,1,1)\n",
        "color_map= plt.cm.nipy_spectral\n",
        "axx.set_prop_cycle('color', [color_map(i) for i in np.linspace(0,1,2)])\n",
        "sns.countplot(x= 'Industry Classifications', data=train_data)\n",
        "plt.xticks(rotation=90)\n",
        "plt.show()\n"
      ],
      "execution_count": 23,
      "outputs": [
        {
          "output_type": "display_data",
          "data": {
            "image/png": "[encoded data removed]",
            "text/plain": [
              "<Figure size 1440x576 with 1 Axes>"
            ]
          },
          "metadata": {
            "tags": []
          }
        }
      ]
    },
    {
      "metadata": {
        "id": "JKLAQcUvRSV3",
        "colab_type": "text"
      },
      "cell_type": "markdown",
      "source": [
        "As we can see,there are only **13 classifications** now. On which model can be made easily.\n",
        "\n",
        "\n",
        "\n",
        "\n",
        "Hence, we will check, whether there is a relationship between \"**Business Description\" length and \"Industry Classifications.**\n",
        "\n",
        "\n",
        "Firstly we will see the** Box plot of Business_Description_length across various Industry Classification.** \n"
      ]
    },
    {
      "metadata": {
        "id": "VnEXUTRDvAel",
        "colab_type": "text"
      },
      "cell_type": "markdown",
      "source": [
        "# Box plot of Business_Description_length across various Industry Classification."
      ]
    },
    {
      "metadata": {
        "id": "vI-VUuiUq3S-",
        "colab_type": "code",
        "outputId": "9852373f-3526-4781-ca11-f408f7f09380",
        "colab": {
          "base_uri": "https://localhost:8080/",
          "height": 658
        }
      },
      "cell_type": "code",
      "source": [
        "train_data['Business_Description_length']=train_data['Business Description'].apply(len)\n",
        "plt.figure(figsize=(20,8))\n",
        "sns.boxplot(x='Industry Classifications', y='Business_Description_length', data= train_data)\n",
        "plt.xticks(rotation=90)\n",
        "plt.show()"
      ],
      "execution_count": 24,
      "outputs": [
        {
          "output_type": "display_data",
          "data": {
            "image/png": "[encoded data removed]",
            "text/plain": [
              "<Figure size 1440x576 with 1 Axes>"
            ]
          },
          "metadata": {
            "tags": []
          }
        }
      ]
    },
    {
      "metadata": {
        "id": "JCVDJw9aXFEg",
        "colab_type": "text"
      },
      "cell_type": "markdown",
      "source": [
        "From the above graph,it is inferred that **Automotive, Energy, Materials and Consumer Staples have a shorter Business Description length as compared to others.**\n",
        "\n"
      ]
    },
    {
      "metadata": {
        "id": "Jnw9e6slvRLS",
        "colab_type": "text"
      },
      "cell_type": "markdown",
      "source": [
        "# Calculating the **Mean Length**."
      ]
    },
    {
      "metadata": {
        "id": "tbRPI4QMy9vz",
        "colab_type": "code",
        "outputId": "8b15a109-674e-4372-89e5-c90ef74990a4",
        "colab": {
          "base_uri": "https://localhost:8080/",
          "height": 690
        }
      },
      "cell_type": "code",
      "source": [
        "plt.figure(figsize=(20,8))\n",
        "train_data.groupby('Industry Classifications')['Business_Description_length'].mean().plot.bar()\n",
        "train_data.drop(['Business_Description_length'],axis=1, inplace= True)\n",
        "plt.title(\"Mean Business Description length vs Industry Classification\")"
      ],
      "execution_count": 25,
      "outputs": [
        {
          "output_type": "execute_result",
          "data": {
            "text/plain": [
              "Text(0.5, 1.0, 'Mean Business Description length vs Industry Classification')"
            ]
          },
          "metadata": {
            "tags": []
          },
          "execution_count": 25
        },
        {
          "output_type": "display_data",
          "data": {
            "image/png": "[encoded data removed]",
            "text/plain": [
              "<Figure size 1440x576 with 1 Axes>"
            ]
          },
          "metadata": {
            "tags": []
          }
        }
      ]
    },
    {
      "metadata": {
        "id": "WCD9wsk2XpjN",
        "colab_type": "text"
      },
      "cell_type": "markdown",
      "source": [
        "From the above graph, we **cannot **conclude any relation **between Business_Description_length and Industry Classifications**"
      ]
    },
    {
      "metadata": {
        "id": "rqiNzyaknnGK",
        "colab_type": "text"
      },
      "cell_type": "markdown",
      "source": [
        "# Joining Train and Test Data for data preprocessing.\n"
      ]
    },
    {
      "metadata": {
        "id": "8NXyJaxrmXeH",
        "colab_type": "code",
        "colab": {}
      },
      "cell_type": "code",
      "source": [
        "both_df= pd.concat([train_data, test_data], ignore_index= True)"
      ],
      "execution_count": 0,
      "outputs": []
    },
    {
      "metadata": {
        "id": "192FQaVSoalw",
        "colab_type": "text"
      },
      "cell_type": "markdown",
      "source": [
        "# **Data cleaning**\n",
        "\n",
        "\n",
        "*   Firslty we will remove all punctuations and numeric values from the combined dataset\n",
        "*   Then we will tokenize the data, so that stop words can be removed form it.\n",
        "*   After that we will convert the data into lower case and then we remove the stop words from it.\n",
        "\n",
        "\n",
        "\n"
      ]
    },
    {
      "metadata": {
        "id": "hg4LcCZF0ejA",
        "colab_type": "code",
        "colab": {}
      },
      "cell_type": "code",
      "source": [
        "nltk_words = list(stopwords.words('english')) \n",
        "both_df['Business Description']= both_df['Business Description'].apply(lambda x: word_tokenize(re.sub('[^A-Za-z ]+','',x)))\n",
        "both_df['Business Description']= both_df['Business Description'].apply(lambda x: [i.lower() for i in x if i.lower()  not in nltk_words])"
      ],
      "execution_count": 0,
      "outputs": []
    },
    {
      "metadata": {
        "id": "gla6P0G8qEu_",
        "colab_type": "text"
      },
      "cell_type": "markdown",
      "source": [
        "# Part of Speech\n",
        "\n",
        "\n",
        "Now we will create a **function** to find the **Part of speech.**"
      ]
    },
    {
      "metadata": {
        "id": "IhU7dheUUncF",
        "colab_type": "code",
        "colab": {}
      },
      "cell_type": "code",
      "source": [
        "def get_wordnet_pos(word):\n",
        "    \"\"\"Map POS tag to first character lemmatize() accepts\"\"\"\n",
        "    tag = nltk.pos_tag([word])[0][1][0].upper()\n",
        "    tag_dict = {\"J\": wordnet.ADJ,\n",
        "                \"N\": wordnet.NOUN, \n",
        "                \"V\": wordnet.VERB,\n",
        "                \"R\": wordnet.ADV}\n",
        "    return tag_dict.get(tag, wordnet.NOUN)"
      ],
      "execution_count": 0,
      "outputs": []
    },
    {
      "metadata": {
        "id": "nE2A5OG6y5vK",
        "colab_type": "text"
      },
      "cell_type": "markdown",
      "source": [
        "# **Lemmatization** :\n",
        "\n",
        "To merge the words which are having the same meaning."
      ]
    },
    {
      "metadata": {
        "id": "i4bFMDar_zma",
        "colab_type": "code",
        "colab": {}
      },
      "cell_type": "code",
      "source": [
        "lematize= WordNetLemmatizer()\n",
        "\n",
        "both_df['Business Description']=both_df['Business Description'].apply(lambda x : [lematize.lemmatize(i, get_wordnet_pos(i)) for i in x])"
      ],
      "execution_count": 0,
      "outputs": []
    },
    {
      "metadata": {
        "id": "OvGVa3tAzPn3",
        "colab_type": "text"
      },
      "cell_type": "markdown",
      "source": [
        "# **ReJoining the Data**\n",
        "\n",
        "Now we will **join the tokenized data**, so that we can use it in Counter vectorization."
      ]
    },
    {
      "metadata": {
        "id": "QzEZLKIKPGPA",
        "colab_type": "code",
        "colab": {}
      },
      "cell_type": "code",
      "source": [
        "both_df['Business Description']=both_df['Business Description'].apply(lambda x : ' '.join(str(i) for i in x))"
      ],
      "execution_count": 0,
      "outputs": []
    },
    {
      "metadata": {
        "id": "5o8BzfnS0zqs",
        "colab_type": "text"
      },
      "cell_type": "markdown",
      "source": [
        "# **Re-Splitting the test and train data **\n",
        "**Re-spliting **the Data into train and test"
      ]
    },
    {
      "metadata": {
        "id": "Tact2wrCTLjv",
        "colab_type": "code",
        "colab": {}
      },
      "cell_type": "code",
      "source": [
        "train_data=both_df[both_df['identity']== 'train']\n",
        "test_data=both_df[both_df['identity']== 'test']"
      ],
      "execution_count": 0,
      "outputs": []
    },
    {
      "metadata": {
        "id": "8bA2Z6Fn1LAH",
        "colab_type": "text"
      },
      "cell_type": "markdown",
      "source": [
        "# **Count Vectorization and Naive Bayes**\n",
        "\n",
        "Now, we will count vectorize the data and create a naive bayes classification model that will be used for the predction of the Industry Class."
      ]
    },
    {
      "metadata": {
        "id": "tonP2cU8mG2S",
        "colab_type": "code",
        "colab": {}
      },
      "cell_type": "code",
      "source": [
        "Count_V= CountVectorizer()"
      ],
      "execution_count": 0,
      "outputs": []
    },
    {
      "metadata": {
        "id": "oSJsevLyQw_T",
        "colab_type": "code",
        "outputId": "fab2cfb8-6b68-42dd-e33c-5bddaf2475c9",
        "colab": {
          "base_uri": "https://localhost:8080/",
          "height": 34
        }
      },
      "cell_type": "code",
      "source": [
        "x = Count_V.fit_transform(train_data['Business Description'])\n",
        "y=train_data['Industry Classifications']\n",
        "x_train, x_test,y_train, y_test=train_test_split(x,y, test_size=0.2)\n",
        "from sklearn.naive_bayes import MultinomialNB\n",
        "nb = MultinomialNB()\n",
        "nb.fit(x_train, y_train)"
      ],
      "execution_count": 33,
      "outputs": [
        {
          "output_type": "execute_result",
          "data": {
            "text/plain": [
              "MultinomialNB(alpha=1.0, class_prior=None, fit_prior=True)"
            ]
          },
          "metadata": {
            "tags": []
          },
          "execution_count": 33
        }
      ]
    },
    {
      "metadata": {
        "id": "emCUnN344lhP",
        "colab_type": "text"
      },
      "cell_type": "markdown",
      "source": [
        "# **Model Accuracy**\n",
        "\n",
        "Checking for the Accuracy of the Model."
      ]
    },
    {
      "metadata": {
        "id": "XdTwUtTCaTzq",
        "colab_type": "code",
        "outputId": "24b27b9a-9cf6-4fae-95e8-9a97c7f635f0",
        "colab": {
          "base_uri": "https://localhost:8080/",
          "height": 34
        }
      },
      "cell_type": "code",
      "source": [
        "accuracy_score(y_test, nb.predict(x_test))"
      ],
      "execution_count": 34,
      "outputs": [
        {
          "output_type": "execute_result",
          "data": {
            "text/plain": [
              "0.7467532467532467"
            ]
          },
          "metadata": {
            "tags": []
          },
          "execution_count": 34
        }
      ]
    },
    {
      "metadata": {
        "id": "ETqu5SvB_zl7",
        "colab_type": "text"
      },
      "cell_type": "markdown",
      "source": [
        "Inorder to do the **Stratified sampling** we will use **K-Fold cross validation** with count vectorised data"
      ]
    },
    {
      "metadata": {
        "id": "Dbl_pLwk94QF",
        "colab_type": "code",
        "outputId": "cde965c2-936c-4535-a065-3e025cbf66db",
        "colab": {
          "base_uri": "https://localhost:8080/",
          "height": 34
        }
      },
      "cell_type": "code",
      "source": [
        "nb = MultinomialNB()\n",
        "CVV_results= cross_val_score(nb, x, y, cv= 10 , scoring='accuracy')\n",
        "CVV_results.mean()"
      ],
      "execution_count": 35,
      "outputs": [
        {
          "output_type": "execute_result",
          "data": {
            "text/plain": [
              "0.7149551074493721"
            ]
          },
          "metadata": {
            "tags": []
          },
          "execution_count": 35
        }
      ]
    },
    {
      "metadata": {
        "id": "gK9taZup9sVO",
        "colab_type": "text"
      },
      "cell_type": "markdown",
      "source": [
        "So, we are getting the accuracy of **71.4 **percent"
      ]
    },
    {
      "metadata": {
        "id": "Wu9ApChJ4_jb",
        "colab_type": "text"
      },
      "cell_type": "markdown",
      "source": [
        "# **TFIDF and Naive Bayes**\n",
        "\n",
        "Now we use **T**erm **F**requency and **I**nverse **D**ocument **F**requency to predict the Class"
      ]
    },
    {
      "metadata": {
        "id": "cEp1f4ZMfCr8",
        "colab_type": "code",
        "outputId": "438f447f-d5cc-4caa-95f3-b3adba1a0356",
        "colab": {
          "base_uri": "https://localhost:8080/",
          "height": 34
        }
      },
      "cell_type": "code",
      "source": [
        "tf_id= TfidfVectorizer()\n",
        "x_1 = tf_id.fit_transform(train_data['Business Description'])\n",
        "y_1=train_data['Industry Classifications']\n",
        "x_train, x_test,y_train, y_test=train_test_split(x_1,y_1, test_size=0.2)\n",
        "from sklearn.naive_bayes import MultinomialNB\n",
        "nb_1 = MultinomialNB()\n",
        "nb_1.fit(x_train, y_train)\n",
        "accuracy_score(y_test, nb_1.predict(x_test))"
      ],
      "execution_count": 36,
      "outputs": [
        {
          "output_type": "execute_result",
          "data": {
            "text/plain": [
              "0.5746753246753247"
            ]
          },
          "metadata": {
            "tags": []
          },
          "execution_count": 36
        }
      ]
    },
    {
      "metadata": {
        "id": "2AaxMEtcBs42",
        "colab_type": "text"
      },
      "cell_type": "markdown",
      "source": [
        "Inorder to do the** Stratified sampling** we will use **K-Fold cross validation with TFIDF data**"
      ]
    },
    {
      "metadata": {
        "id": "Xxdv1f3uBtg5",
        "colab_type": "code",
        "outputId": "82e1ba58-3c11-4475-c3a3-6d1ef3261365",
        "colab": {
          "base_uri": "https://localhost:8080/",
          "height": 34
        }
      },
      "cell_type": "code",
      "source": [
        "nb_1 = MultinomialNB()\n",
        "CVV_results= cross_val_score(nb_1, x_1, y_1, cv= 10 , scoring='accuracy')\n",
        "CVV_results.mean()"
      ],
      "execution_count": 37,
      "outputs": [
        {
          "output_type": "execute_result",
          "data": {
            "text/plain": [
              "0.5915662287006768"
            ]
          },
          "metadata": {
            "tags": []
          },
          "execution_count": 37
        }
      ]
    },
    {
      "metadata": {
        "id": "0hQ1nBt65Sg8",
        "colab_type": "text"
      },
      "cell_type": "markdown",
      "source": [
        "# **Final Output prediction**\n",
        "\n",
        "As we can see,we are getting less accuracy in TFIDF the Count Vectorizer. So we will predict our test data with Count vectorizer."
      ]
    },
    {
      "metadata": {
        "id": "-oSDAQjO5t98",
        "colab_type": "code",
        "colab": {}
      },
      "cell_type": "code",
      "source": [
        "x_output = Count_V.transform(test_data['Business Description'])\n",
        "nb = MultinomialNB()\n",
        "nb.fit(x, y)\n",
        "y_output=nb.predict(x_output)\n",
        "test_data.drop(['Industry Classifications','identity'], inplace=True, axis=1)\n",
        "test_data.reset_index(inplace=True, drop=True)\n",
        "test_data['Industry Classifications']=list(y_output)"
      ],
      "execution_count": 0,
      "outputs": []
    },
    {
      "metadata": {
        "id": "9IdSO7Lke0WU",
        "colab_type": "code",
        "colab": {}
      },
      "cell_type": "code",
      "source": [
        "from google.colab import files\n",
        "test_data.to_csv('test_data.csv')\n",
        "files.download(\"test_data.csv\")"
      ],
      "execution_count": 0,
      "outputs": []
    },
    {
      "metadata": {
        "id": "I01MECdIxQ8w",
        "colab_type": "code",
        "colab": {}
      },
      "cell_type": "code",
      "source": [
        "import os\n"
      ],
      "execution_count": 0,
      "outputs": []
    }
  ]
}